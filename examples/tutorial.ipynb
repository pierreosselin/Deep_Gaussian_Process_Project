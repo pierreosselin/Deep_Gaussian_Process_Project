{
 "cells": [
  {
   "cell_type": "markdown",
   "metadata": {},
   "source": [
    "# PyDeepGP tutorial"
   ]
  },
  {
   "cell_type": "code",
   "execution_count": 9,
   "metadata": {},
   "outputs": [],
   "source": [
    "import numpy as np\n",
    "import GPy\n",
    "from pylab import *\n",
    "%matplotlib inline\n",
    "import os\n",
    "from sys import path\n",
    "np.random.seed(42)"
   ]
  },
  {
   "cell_type": "code",
   "execution_count": 10,
   "metadata": {},
   "outputs": [],
   "source": [
    "# Add parent directory to path if deepgp is not there already\n",
    "pwd = os.getcwd()\n",
    "base_path = pwd[0:pwd.rfind(os.sep)]\n",
    "path.insert(0,base_path)"
   ]
  },
  {
   "cell_type": "code",
   "execution_count": 11,
   "metadata": {},
   "outputs": [],
   "source": [
    "import deepgp"
   ]
  },
  {
   "cell_type": "code",
   "execution_count": 12,
   "metadata": {},
   "outputs": [],
   "source": [
    "# Utility to load sample data. It can be installed with pip. Otherwise just load some other data.\n",
    "import pods"
   ]
  },
  {
   "cell_type": "markdown",
   "metadata": {},
   "source": [
    "## Unsupervised learning (oil data)"
   ]
  },
  {
   "cell_type": "code",
   "execution_count": 6,
   "metadata": {},
   "outputs": [
    {
     "name": "stdout",
     "output_type": "stream",
     "text": [
      "Acquiring resource: three_phase_oil_flow\n",
      "\n",
      "Details of data: \n",
      "The three phase oil data used initially for demonstrating the Generative Topographic mapping.\n",
      "\n",
      "Please cite:\n",
      "Bishop, C. M. and G. D. James (1993). Analysis of multiphase flows using dual-energy gamma densitometry and neural networks. Nuclear Instruments and Methods in Physics Research A327, 580-593\n",
      "\n",
      "After downloading the data will take up 712796 bytes of space.\n",
      "\n",
      "Data will be stored in C:\\Users\\33617/ods_data_cache/three_phase_oil_flow.\n",
      "\n",
      "Do you wish to proceed with the download? [yes/no]\n",
      "yes\n",
      "Downloading  http://staffwww.dcs.shef.ac.uk/people/N.Lawrence/dataset_mirror/three_phase_oil_flow/DataTrnLbls.txt -> C:\\Users\\33617/ods_data_cache/three_phase_oil_flow\\DataTrnLbls.txt\n",
      "[==============================]   0.050/0.050MB                                                                                                                                                                                                                                                                                                                                                \n",
      "Downloading  http://staffwww.dcs.shef.ac.uk/people/N.Lawrence/dataset_mirror/three_phase_oil_flow/DataTrn.txt -> C:\\Users\\33617/ods_data_cache/three_phase_oil_flow\\DataTrn.txt\n",
      "[==============================]   0.196/0.196MB                                                                                                                                                                                                                                                                                                                                                                                                                                                                                                                                                                                                                                                                                                                                                                                                                                                                                                                                                                                                                                                                                                                                                                                                                                                                                                \n",
      "Downloading  http://staffwww.dcs.shef.ac.uk/people/N.Lawrence/dataset_mirror/three_phase_oil_flow/DataTst.txt -> C:\\Users\\33617/ods_data_cache/three_phase_oil_flow\\DataTst.txt\n",
      "[==============================]   0.173/0.173MB                                                                                                                                                                                                                                                                                                                                                                                                                                                                                                                                                                                                                                                                                                                                                                                                                                                                                                                                                                                                                                                                                                                                                \n",
      "Downloading  http://staffwww.dcs.shef.ac.uk/people/N.Lawrence/dataset_mirror/three_phase_oil_flow/DataTstLbls.txt -> C:\\Users\\33617/ods_data_cache/three_phase_oil_flow\\DataTstLbls.txt\n",
      "[==============================]   0.044/0.044MB                                                                                                                                                                                                                                                                                                \n",
      "Downloading  http://staffwww.dcs.shef.ac.uk/people/N.Lawrence/dataset_mirror/three_phase_oil_flow/DataVdn.txt -> C:\\Users\\33617/ods_data_cache/three_phase_oil_flow\\DataVdn.txt\n",
      "[==============================]   0.173/0.173MB                                                                                                                                                                                                                                                                                                                                                                                                                                                                                                                                                                                                                                                                                                                                                                                                                                                                                                                                                                                                                                                                                                                                                \n",
      "Downloading  http://staffwww.dcs.shef.ac.uk/people/N.Lawrence/dataset_mirror/three_phase_oil_flow/DataVdnLbls.txt -> C:\\Users\\33617/ods_data_cache/three_phase_oil_flow\\DataVdnLbls.txt\n",
      "[==============================]   0.044/0.044MB                                                                                                                                                                                                                                                                                                \n"
     ]
    }
   ],
   "source": [
    "# Load data\n",
    "data = pods.datasets.oil_100()\n",
    "Y = data['X']\n",
    "labels =  data['Y'].argmax(axis=1)\n",
    "\n",
    "# Number of latent dimensions per layer\n",
    "Q1, Q2 = 5, 4\n",
    "\n",
    "# Type of kernel per layer\n",
    "kern1 = GPy.kern.RBF(Q1,ARD=True) + GPy.kern.Bias(Q1)\n",
    "kern2 = GPy.kern.RBF(Q2,ARD=True) + GPy.kern.Bias(Q2)\n",
    "\n",
    "# Number of inducing points per layer (can be set to different if given as list).\n",
    "num_inducing = 40\n",
    "\n",
    "# Whether to use back-constraint for variational posterior\n",
    "back_constraint = False\n",
    "\n",
    "# Dimensions of the MLP back-constraint if set to true\n",
    "encoder_dims=[[300],[150]]"
   ]
  },
  {
   "cell_type": "code",
   "execution_count": 7,
   "metadata": {},
   "outputs": [],
   "source": [
    "m = deepgp.DeepGP([Y.shape[1],Q1,Q2],\n",
    "                  Y,kernels=[kern1,kern2], \n",
    "                  num_inducing=num_inducing, \n",
    "                  back_constraint=back_constraint, \n",
    "                  encoder_dims = encoder_dims)"
   ]
  },
  {
   "cell_type": "code",
   "execution_count": 8,
   "metadata": {},
   "outputs": [],
   "source": [
    "# Make sure initial noise variance gives a reasonable signal to noise ratio\n",
    "for i in range(len(m.layers)):\n",
    "    output_var = m.layers[i].Y.var() if i==0 else m.layers[i].Y.mean.var()\n",
    "    m.layers[i].Gaussian_noise.variance = output_var*0.01"
   ]
  },
  {
   "cell_type": "code",
   "execution_count": 9,
   "metadata": {},
   "outputs": [
    {
     "data": {
      "application/vnd.jupyter.widget-view+json": {
       "model_id": "fa73b26faf2949469790c296f5a4d2fc",
       "version_major": 2,
       "version_minor": 0
      },
      "text/plain": [
       "HBox(children=(VBox(children=(IntProgress(value=0, max=5000), HTML(value=''))), Box(children=(HTML(value=''),)…"
      ]
     },
     "metadata": {},
     "output_type": "display_data"
    }
   ],
   "source": [
    "m.optimize(max_iters=5000, messages=True)"
   ]
  },
  {
   "cell_type": "code",
   "execution_count": 10,
   "metadata": {},
   "outputs": [
    {
     "data": {
      "text/plain": [
       "[<BarContainer object of 4 artists>, <BarContainer object of 4 artists>]"
      ]
     },
     "execution_count": 10,
     "metadata": {},
     "output_type": "execute_result"
    },
    {
     "data": {
      "image/png": "[encoded data removed]",
      "text/plain": [
       "<Figure size 432x288 with 1 Axes>"
      ]
     },
     "metadata": {
      "needs_background": "light"
     },
     "output_type": "display_data"
    },
    {
     "data": {
      "image/png": "[encoded data removed]",
      "text/plain": [
       "<Figure size 432x288 with 1 Axes>"
      ]
     },
     "metadata": {
      "needs_background": "light"
     },
     "output_type": "display_data"
    }
   ],
   "source": [
    "# Plot ARD scales per layer\n",
    "m.obslayer.kern.plot_ARD()\n",
    "m.layer_1.kern.plot_ARD()"
   ]
  },
  {
   "cell_type": "code",
   "execution_count": 11,
   "metadata": {},
   "outputs": [
    {
     "data": {
      "text/plain": [
       "Text(0.5, 1.0, 'Layer 1')"
      ]
     },
     "execution_count": 11,
     "metadata": {},
     "output_type": "execute_result"
    },
    {
     "data": {
      "image/png": "[encoded data removed]",
      "text/plain": [
       "<Figure size 360x360 with 1 Axes>"
      ]
     },
     "metadata": {
      "needs_background": "light"
     },
     "output_type": "display_data"
    },
    {
     "data": {
      "image/png": "[encoded data removed]",
      "text/plain": [
       "<Figure size 360x360 with 1 Axes>"
      ]
     },
     "metadata": {
      "needs_background": "light"
     },
     "output_type": "display_data"
    }
   ],
   "source": [
    "# From the plots above, we see which ones are the dominant dimensions for each layer. \n",
    "# So we use these dimensions in the visualization of the latent space below.\n",
    "plt.figure(figsize=(5,5))\n",
    "deepgp.util.visualize_DGP(m, labels, layer=0, dims=[1,2]); plt.title('Layer 0')\n",
    "plt.figure(figsize=(5,5))\n",
    "deepgp.util.visualize_DGP(m, labels, layer=1, dims=[0,1]); plt.title('Layer 1')"
   ]
  },
  {
   "cell_type": "markdown",
   "metadata": {},
   "source": [
    "## Supervised learning"
   ]
  },
  {
   "cell_type": "code",
   "execution_count": 13,
   "metadata": {},
   "outputs": [],
   "source": [
    "# Load some mocap data.\n",
    "data = pods.datasets.cmu_mocap_35_walk_jog()\n",
    "\n",
    "Ntr = 100\n",
    "Nts = 500\n",
    "\n",
    "# All data represented in Y_all, which is the angles of the movement of the subject\n",
    "Y_all = data['Y']\n",
    "perm = np.random.permutation(Ntr+Nts)\n",
    "index_training = np.sort(perm[0:Ntr])\n",
    "index_test     = np.sort(perm[Ntr:Ntr+Nts])\n",
    "\n",
    "Y_all_tr = Y_all[index_training,:]\n",
    "Y_all_ts = Y_all[index_test,    :]\n",
    "\n",
    "\n",
    "# Some of the features (body joints) to be used as inputs, and some as outputs\n",
    "X_tr = Y_all_tr[:,0:55].copy()\n",
    "Y_tr = Y_all_tr[:, 55:].copy()\n",
    "\n",
    "X_ts = Y_all_ts[:,0:55].copy()\n",
    "Y_ts = Y_all_ts[:, 55:].copy()\n",
    "\n",
    "# TODO: You might need to normalize the input and/or output data."
   ]
  },
  {
   "cell_type": "code",
   "execution_count": 14,
   "metadata": {},
   "outputs": [
    {
     "name": "stdout",
     "output_type": "stream",
     "text": [
      "(100, 55)\n",
      "(100, 7)\n"
     ]
    }
   ],
   "source": [
    "print(X_tr.shape)\n",
    "print(Y_tr.shape)"
   ]
  },
  {
   "cell_type": "code",
   "execution_count": 26,
   "metadata": {},
   "outputs": [],
   "source": [
    "# Number of latent dimensions (single hidden layer, since the top layer is observed)\n",
    "Q = 5\n",
    "\n",
    "# Define what kernels to use per layer\n",
    "kern1 = GPy.kern.RBF(Q,ARD=True) + GPy.kern.Bias(Q)\n",
    "kern2 = GPy.kern.RBF(X_tr.shape[1],ARD=False) + GPy.kern.Bias(X_tr.shape[1])\n",
    "\n",
    "# Number of inducing points to use\n",
    "num_inducing = 10\n",
    "\n",
    "# Whether to use back-constraint for variational posterior\n",
    "back_constraint = False\n",
    "\n",
    "# Dimensions of the MLP back-constraint if set to true\n",
    "encoder_dims=[[300],[150]]"
   ]
  },
  {
   "cell_type": "code",
   "execution_count": 27,
   "metadata": {},
   "outputs": [],
   "source": [
    "m = deepgp.DeepGP([Y_tr.shape[1],Q,X_tr.shape[1]],\n",
    "                  Y_tr, X_tr=X_tr,kernels=[kern1, kern2], \n",
    "                  num_inducing=num_inducing, back_constraint=back_constraint)"
   ]
  },
  {
   "cell_type": "code",
   "execution_count": 28,
   "metadata": {},
   "outputs": [],
   "source": [
    "# Make sure initial noise variance gives a reasonable signal to noise ratio.\n",
    "# Fix to that value for a few iterations to avoid early local minima\n",
    "for i in range(len(m.layers)):\n",
    "    output_var = m.layers[i].Y.var() if i==0 else m.layers[i].Y.mean.var()\n",
    "    m.layers[i].Gaussian_noise.variance = output_var*0.01\n",
    "    m.layers[i].Gaussian_noise.variance.fix()"
   ]
  },
  {
   "cell_type": "code",
   "execution_count": 29,
   "metadata": {},
   "outputs": [
    {
     "data": {
      "text/html": [
       "<style type=\"text/css\">\n",
       ".pd{\n",
       "    font-family: \"Courier New\", Courier, monospace !important;\n",
       "    width: 100%;\n",
       "    padding: 3px;\n",
       "}\n",
       "</style>\n",
       "\n",
       "<p class=pd>\n",
       "<b>Model</b>: deepgp<br>\n",
       "<b>Objective</b>: 63838.099821448035<br>\n",
       "<b>Number of Parameters</b>: 12632<br>\n",
       "<b>Number of Optimization Parameters</b>: 12630<br>\n",
       "<b>Updates</b>: True<br>\n",
       "</p>\n",
       "<style type=\"text/css\">\n",
       ".tg  {font-family:\"Courier New\", Courier, monospace !important;padding:2px 3px;word-break:normal;border-collapse:collapse;border-spacing:0;border-color:#DCDCDC;margin:0px auto;width:100%;}\n",
       ".tg td{font-family:\"Courier New\", Courier, monospace !important;font-weight:bold;color:#444;background-color:#F7FDFA;border-style:solid;border-width:1px;overflow:hidden;word-break:normal;border-color:#DCDCDC;}\n",
       ".tg th{font-family:\"Courier New\", Courier, monospace !important;font-weight:normal;color:#fff;background-color:#26ADE4;border-style:solid;border-width:1px;overflow:hidden;word-break:normal;border-color:#DCDCDC;}\n",
       ".tg .tg-left{font-family:\"Courier New\", Courier, monospace !important;font-weight:normal;text-align:left;}\n",
       ".tg .tg-center{font-family:\"Courier New\", Courier, monospace !important;font-weight:normal;text-align:center;}\n",
       ".tg .tg-right{font-family:\"Courier New\", Courier, monospace !important;font-weight:normal;text-align:right;}\n",
       "</style>\n",
       "<table class=\"tg\"><tr><th><b>  deepgp.                         </b></th><th><b>               value</b></th><th><b>constraints</b></th><th><b>priors</b></th></tr>\n",
       "<tr><td class=tg-left>  obslayer.inducing inputs        </td><td class=tg-right>             (10, 5)</td><td class=tg-center>           </td><td class=tg-center>      </td></tr>\n",
       "<tr><td class=tg-left>  obslayer.sum.rbf.variance       </td><td class=tg-right>                 1.0</td><td class=tg-center>    +ve    </td><td class=tg-center>      </td></tr>\n",
       "<tr><td class=tg-left>  obslayer.sum.rbf.lengthscale    </td><td class=tg-right>                (5,)</td><td class=tg-center>    +ve    </td><td class=tg-center>      </td></tr>\n",
       "<tr><td class=tg-left>  obslayer.sum.bias.variance      </td><td class=tg-right>                 1.0</td><td class=tg-center>    +ve    </td><td class=tg-center>      </td></tr>\n",
       "<tr><td class=tg-left>  obslayer.Gaussian_noise.variance</td><td class=tg-right>  2.1319089903128967</td><td class=tg-center> +ve fixed </td><td class=tg-center>      </td></tr>\n",
       "<tr><td class=tg-left>  obslayer.Kuu_var                </td><td class=tg-right>               (10,)</td><td class=tg-center>    +ve    </td><td class=tg-center>      </td></tr>\n",
       "<tr><td class=tg-left>  obslayer.latent space.mean      </td><td class=tg-right>            (100, 5)</td><td class=tg-center>           </td><td class=tg-center>      </td></tr>\n",
       "<tr><td class=tg-left>  obslayer.latent space.variance  </td><td class=tg-right>            (100, 5)</td><td class=tg-center>    +ve    </td><td class=tg-center>      </td></tr>\n",
       "<tr><td class=tg-left>  layer_1.inducing inputs         </td><td class=tg-right>            (10, 55)</td><td class=tg-center>           </td><td class=tg-center>      </td></tr>\n",
       "<tr><td class=tg-left>  layer_1.sum.rbf.variance        </td><td class=tg-right>                 1.0</td><td class=tg-center>    +ve    </td><td class=tg-center>      </td></tr>\n",
       "<tr><td class=tg-left>  layer_1.sum.rbf.lengthscale     </td><td class=tg-right>                 1.0</td><td class=tg-center>    +ve    </td><td class=tg-center>      </td></tr>\n",
       "<tr><td class=tg-left>  layer_1.sum.bias.variance       </td><td class=tg-right>                 1.0</td><td class=tg-center>    +ve    </td><td class=tg-center>      </td></tr>\n",
       "<tr><td class=tg-left>  layer_1.Gaussian_noise.variance </td><td class=tg-right>0.010009861297998482</td><td class=tg-center> +ve fixed </td><td class=tg-center>      </td></tr>\n",
       "<tr><td class=tg-left>  layer_1.Kuu_var                 </td><td class=tg-right>               (10,)</td><td class=tg-center>    +ve    </td><td class=tg-center>      </td></tr>\n",
       "<tr><td class=tg-left>  layer_1.latent space.mean       </td><td class=tg-right>           (100, 55)</td><td class=tg-center>           </td><td class=tg-center>      </td></tr>\n",
       "<tr><td class=tg-left>  layer_1.latent space.variance   </td><td class=tg-right>           (100, 55)</td><td class=tg-center>    +ve    </td><td class=tg-center>      </td></tr>\n",
       "</table>"
      ],
      "text/plain": [
       "<deepgp.models.model.DeepGP at 0x2895c09da88>"
      ]
     },
     "metadata": {},
     "output_type": "display_data"
    }
   ],
   "source": [
    "display(m)"
   ]
  },
  {
   "cell_type": "code",
   "execution_count": 30,
   "metadata": {},
   "outputs": [
    {
     "data": {
      "application/vnd.jupyter.widget-view+json": {
       "model_id": "1ab0c8c7f7564ec4b9b897c1d21641c9",
       "version_major": 2,
       "version_minor": 0
      },
      "text/plain": [
       "HBox(children=(VBox(children=(IntProgress(value=0, max=800), HTML(value=''))), Box(children=(HTML(value=''),))…"
      ]
     },
     "metadata": {},
     "output_type": "display_data"
    }
   ],
   "source": [
    "m.optimize(max_iters=800, messages=True)"
   ]
  },
  {
   "cell_type": "code",
   "execution_count": 31,
   "metadata": {},
   "outputs": [],
   "source": [
    "# Unfix noise variance now that we have initialized the model\n",
    "for i in range(len(m.layers)):\n",
    "    m.layers[i].Gaussian_noise.variance.unfix()"
   ]
  },
  {
   "cell_type": "code",
   "execution_count": 32,
   "metadata": {},
   "outputs": [
    {
     "data": {
      "application/vnd.jupyter.widget-view+json": {
       "model_id": "4a341ea4507248ce934e1e259ca1a517",
       "version_major": 2,
       "version_minor": 0
      },
      "text/plain": [
       "HBox(children=(VBox(children=(IntProgress(value=0, max=1500), HTML(value=''))), Box(children=(HTML(value=''),)…"
      ]
     },
     "metadata": {},
     "output_type": "display_data"
    }
   ],
   "source": [
    "m.optimize(max_iters=1500, messages=True)"
   ]
  },
  {
   "cell_type": "markdown",
   "metadata": {},
   "source": [
    "### Compare with GP"
   ]
  },
  {
   "cell_type": "code",
   "execution_count": 33,
   "metadata": {},
   "outputs": [],
   "source": [
    "m_GP = GPy.models.SparseGPRegression(X=X_tr, Y=Y_tr, kernel=GPy.kern.RBF(X_tr.shape[1])+GPy.kern.Bias(X_tr.shape[1]), num_inducing=num_inducing)"
   ]
  },
  {
   "cell_type": "code",
   "execution_count": 34,
   "metadata": {},
   "outputs": [
    {
     "data": {
      "application/vnd.jupyter.widget-view+json": {
       "model_id": "c23a2f3446f34034bd96e1f04139e74c",
       "version_major": 2,
       "version_minor": 0
      },
      "text/plain": [
       "HBox(children=(VBox(children=(IntProgress(value=0), HTML(value=''))), Box(children=(HTML(value=''),))))"
      ]
     },
     "metadata": {},
     "output_type": "display_data"
    },
    {
     "data": {
      "application/vnd.jupyter.widget-view+json": {
       "model_id": "95bfe649ea9d482c87dc79e0b80dc4a7",
       "version_major": 2,
       "version_minor": 0
      },
      "text/plain": [
       "HBox(children=(VBox(children=(IntProgress(value=0, max=400), HTML(value=''))), Box(children=(HTML(value=''),))…"
      ]
     },
     "metadata": {},
     "output_type": "display_data"
    },
    {
     "data": {
      "text/plain": [
       "<paramz.optimization.optimization.opt_lbfgsb at 0x2895d23b6c8>"
      ]
     },
     "execution_count": 34,
     "metadata": {},
     "output_type": "execute_result"
    }
   ],
   "source": [
    "m_GP.Gaussian_noise.variance = m_GP.Y.var()*0.01\n",
    "m_GP.Gaussian_noise.variance.fix()\n",
    "m_GP.optimize(max_iters=100, messages=True)\n",
    "m_GP.Gaussian_noise.variance.unfix()\n",
    "m_GP.optimize(max_iters=400, messages=True)"
   ]
  },
  {
   "cell_type": "code",
   "execution_count": 35,
   "metadata": {},
   "outputs": [],
   "source": [
    "def rmse(predictions, targets):\n",
    "    return np.sqrt(((predictions.flatten() - targets.flatten()) ** 2).mean())\n"
   ]
  },
  {
   "cell_type": "code",
   "execution_count": 36,
   "metadata": {},
   "outputs": [
    {
     "name": "stdout",
     "output_type": "stream",
     "text": [
      "# RMSE DGP               : 3.0327156763523595\n",
      "# RMSE DGP (with samples): 3.0333575317976513\n",
      "# RMSE GP                : 3.0339631694830675\n"
     ]
    }
   ],
   "source": [
    "Y_pred = m.predict(X_ts)[0]\n",
    "Y_pred_s = m.predict_withSamples(X_ts, nSamples=500)[0]\n",
    "Y_pred_GP = m_GP.predict(X_ts)[0]\n",
    "\n",
    "print('# RMSE DGP               : ' + str(rmse(Y_pred, Y_ts)))\n",
    "print('# RMSE DGP (with samples): ' + str(rmse(Y_pred_s, Y_ts)))\n",
    "print('# RMSE GP                : ' + str(rmse(Y_pred_GP, Y_ts)))"
   ]
  },
  {
   "cell_type": "code",
   "execution_count": 37,
   "metadata": {},
   "outputs": [
    {
     "ename": "NameError",
     "evalue": "name 'y' is not defined",
     "output_type": "error",
     "traceback": [
      "\u001b[1;31m---------------------------------------------------------------------------\u001b[0m",
      "\u001b[1;31mNameError\u001b[0m                                 Traceback (most recent call last)",
      "\u001b[1;32m<ipython-input-37-9063a9f0e032>\u001b[0m in \u001b[0;36m<module>\u001b[1;34m\u001b[0m\n\u001b[1;32m----> 1\u001b[1;33m \u001b[0my\u001b[0m\u001b[1;33m\u001b[0m\u001b[1;33m\u001b[0m\u001b[0m\n\u001b[0m",
      "\u001b[1;31mNameError\u001b[0m: name 'y' is not defined"
     ]
    }
   ],
   "source": [
    "y"
   ]
  },
  {
   "cell_type": "code",
   "execution_count": 41,
   "metadata": {},
   "outputs": [
    {
     "data": {
      "text/plain": [
       "[<matplotlib.lines.Line2D at 0x2895d511508>]"
      ]
     },
     "execution_count": 41,
     "metadata": {},
     "output_type": "execute_result"
    },
    {
     "data": {
      "image/png": "[encoded data removed]",
      "text/plain": [
       "<Figure size 432x288 with 1 Axes>"
      ]
     },
     "metadata": {
      "needs_background": "light"
     },
     "output_type": "display_data"
    }
   ],
   "source": [
    "X = np.linspace(0,1,100)\n",
    "Y = np.sin(2/(0.1+X))\n",
    "plt.plot(X,Y)"
   ]
  },
  {
   "cell_type": "code",
   "execution_count": null,
   "metadata": {},
   "outputs": [],
   "source": []
  }
 ],
 "metadata": {
  "anaconda-cloud": {},
  "kernelspec": {
   "display_name": "Python 3",
   "language": "python",
   "name": "python3"
  },
  "language_info": {
   "codemirror_mode": {
    "name": "ipython",
    "version": 3
   },
   "file_extension": ".py",
   "mimetype": "text/x-python",
   "name": "python",
   "nbconvert_exporter": "python",
   "pygments_lexer": "ipython3",
   "version": "3.7.4"
  }
 },
 "nbformat": 4,
 "nbformat_minor": 1
}
