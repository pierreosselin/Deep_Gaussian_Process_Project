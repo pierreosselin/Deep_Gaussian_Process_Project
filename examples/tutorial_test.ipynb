{
 "cells": [
  {
   "cell_type": "markdown",
   "metadata": {},
   "source": [
    "# PyDeepGP tutorial"
   ]
  },
  {
   "cell_type": "code",
   "execution_count": 1,
   "metadata": {},
   "outputs": [],
   "source": [
    "import numpy as np\n",
    "import GPy\n",
    "from pylab import *\n",
    "%matplotlib inline\n",
    "import os\n",
    "from sys import path\n",
    "np.random.seed(42)"
   ]
  },
  {
   "cell_type": "code",
   "execution_count": 2,
   "metadata": {},
   "outputs": [],
   "source": [
    "# Add parent directory to path if deepgp is not there already\n",
    "pwd = os.getcwd()\n",
    "base_path = pwd[0:pwd.rfind(os.sep)]\n",
    "path.insert(0,base_path)"
   ]
  },
  {
   "cell_type": "code",
   "execution_count": 3,
   "metadata": {},
   "outputs": [],
   "source": [
    "import deepgp"
   ]
  },
  {
   "cell_type": "code",
   "execution_count": 5,
   "metadata": {},
   "outputs": [],
   "source": [
    "# Utility to load sample data. It can be installed with pip. Otherwise just load some other data.\n",
    "import pods"
   ]
  },
  {
   "cell_type": "markdown",
   "metadata": {},
   "source": [
    "## Unsupervised learning (oil data)"
   ]
  },
  {
   "cell_type": "code",
   "execution_count": 14,
   "metadata": {},
   "outputs": [],
   "source": [
    "# Load data\n",
    "data = pods.datasets.oil_100()\n",
    "Y = data['X']\n",
    "labels =  data['Y'].argmax(axis=1)\n",
    "\n",
    "# Number of latent dimensions per layer\n",
    "Q1 = 5\n",
    "# Q2 = 4\n",
    "# Type of kernel per layer\n",
    "kern1 = GPy.kern.RBF(Q1,ARD=True) + GPy.kern.Bias(Q1)\n",
    "#kern2 = GPy.kern.RBF(Q2,ARD=True) + GPy.kern.Bias(Q2)\n",
    "\n",
    "# Number of inducing points per layer (can be set to different if given as list).\n",
    "num_inducing = 40\n",
    "\n",
    "# Whether to use back-constraint for variational posterior\n",
    "back_constraint = False\n",
    "\n",
    "# Dimensions of the MLP back-constraint if set to true\n",
    "encoder_dims=[[300],[150]]"
   ]
  },
  {
   "cell_type": "code",
   "execution_count": 15,
   "metadata": {},
   "outputs": [],
   "source": [
    "m = deepgp.DeepGP([Y.shape[1],Q1],\n",
    "                  Y,kernels=[kern1], \n",
    "                  num_inducing=num_inducing, \n",
    "                  back_constraint=back_constraint, \n",
    "                  encoder_dims = encoder_dims)"
   ]
  },
  {
   "cell_type": "code",
   "execution_count": 16,
   "metadata": {},
   "outputs": [],
   "source": [
    "# Make sure initial noise variance gives a reasonable signal to noise ratio\n",
    "for i in range(len(m.layers)):\n",
    "    output_var = m.layers[i].Y.var() if i==0 else m.layers[i].Y.mean.var()\n",
    "    m.layers[i].Gaussian_noise.variance = output_var*0.01"
   ]
  },
  {
   "cell_type": "code",
   "execution_count": 17,
   "metadata": {},
   "outputs": [
    {
     "data": {
      "application/vnd.jupyter.widget-view+json": {
       "model_id": "95de717416f248b5a9a0aa4c14f1e27f",
       "version_major": 2,
       "version_minor": 0
      },
      "text/plain": [
       "HBox(children=(VBox(children=(IntProgress(value=0, max=5000), HTML(value=''))), Box(children=(HTML(value=''),)…"
      ]
     },
     "metadata": {},
     "output_type": "display_data"
    }
   ],
   "source": [
    "m.optimize(max_iters=5000, messages=True)"
   ]
  },
  {
   "cell_type": "code",
   "execution_count": 21,
   "metadata": {},
   "outputs": [
    {
     "data": {
      "text/plain": [
       "[<BarContainer object of 5 artists>, <BarContainer object of 5 artists>]"
      ]
     },
     "execution_count": 21,
     "metadata": {},
     "output_type": "execute_result"
    },
    {
     "data": {
      "image/png": "[encoded data removed]",
      "text/plain": [
       "<Figure size 432x288 with 1 Axes>"
      ]
     },
     "metadata": {
      "needs_background": "light"
     },
     "output_type": "display_data"
    }
   ],
   "source": [
    "# Plot ARD scales per layer\n",
    "m.obslayer.kern.plot_ARD()\n",
    "#m.layer_0.kern.plot_ARD()"
   ]
  },
  {
   "cell_type": "code",
   "execution_count": 22,
   "metadata": {},
   "outputs": [
    {
     "ename": "IndexError",
     "evalue": "list index out of range",
     "output_type": "error",
     "traceback": [
      "\u001b[1;31m---------------------------------------------------------------------------\u001b[0m",
      "\u001b[1;31mIndexError\u001b[0m                                Traceback (most recent call last)",
      "\u001b[1;32m<ipython-input-22-e9b29d414dfa>\u001b[0m in \u001b[0;36m<module>\u001b[1;34m\u001b[0m\n\u001b[0;32m      4\u001b[0m \u001b[0mdeepgp\u001b[0m\u001b[1;33m.\u001b[0m\u001b[0mutil\u001b[0m\u001b[1;33m.\u001b[0m\u001b[0mvisualize_DGP\u001b[0m\u001b[1;33m(\u001b[0m\u001b[0mm\u001b[0m\u001b[1;33m,\u001b[0m \u001b[0mlabels\u001b[0m\u001b[1;33m,\u001b[0m \u001b[0mlayer\u001b[0m\u001b[1;33m=\u001b[0m\u001b[1;36m0\u001b[0m\u001b[1;33m,\u001b[0m \u001b[0mdims\u001b[0m\u001b[1;33m=\u001b[0m\u001b[1;33m[\u001b[0m\u001b[1;36m1\u001b[0m\u001b[1;33m,\u001b[0m\u001b[1;36m2\u001b[0m\u001b[1;33m]\u001b[0m\u001b[1;33m)\u001b[0m\u001b[1;33m;\u001b[0m \u001b[0mplt\u001b[0m\u001b[1;33m.\u001b[0m\u001b[0mtitle\u001b[0m\u001b[1;33m(\u001b[0m\u001b[1;34m'Layer 0'\u001b[0m\u001b[1;33m)\u001b[0m\u001b[1;33m\u001b[0m\u001b[1;33m\u001b[0m\u001b[0m\n\u001b[0;32m      5\u001b[0m \u001b[0mplt\u001b[0m\u001b[1;33m.\u001b[0m\u001b[0mfigure\u001b[0m\u001b[1;33m(\u001b[0m\u001b[0mfigsize\u001b[0m\u001b[1;33m=\u001b[0m\u001b[1;33m(\u001b[0m\u001b[1;36m5\u001b[0m\u001b[1;33m,\u001b[0m\u001b[1;36m5\u001b[0m\u001b[1;33m)\u001b[0m\u001b[1;33m)\u001b[0m\u001b[1;33m\u001b[0m\u001b[1;33m\u001b[0m\u001b[0m\n\u001b[1;32m----> 6\u001b[1;33m \u001b[0mdeepgp\u001b[0m\u001b[1;33m.\u001b[0m\u001b[0mutil\u001b[0m\u001b[1;33m.\u001b[0m\u001b[0mvisualize_DGP\u001b[0m\u001b[1;33m(\u001b[0m\u001b[0mm\u001b[0m\u001b[1;33m,\u001b[0m \u001b[0mlabels\u001b[0m\u001b[1;33m,\u001b[0m \u001b[0mlayer\u001b[0m\u001b[1;33m=\u001b[0m\u001b[1;36m1\u001b[0m\u001b[1;33m,\u001b[0m \u001b[0mdims\u001b[0m\u001b[1;33m=\u001b[0m\u001b[1;33m[\u001b[0m\u001b[1;36m0\u001b[0m\u001b[1;33m,\u001b[0m\u001b[1;36m1\u001b[0m\u001b[1;33m]\u001b[0m\u001b[1;33m)\u001b[0m\u001b[1;33m;\u001b[0m \u001b[0mplt\u001b[0m\u001b[1;33m.\u001b[0m\u001b[0mtitle\u001b[0m\u001b[1;33m(\u001b[0m\u001b[1;34m'Layer 1'\u001b[0m\u001b[1;33m)\u001b[0m\u001b[1;33m\u001b[0m\u001b[1;33m\u001b[0m\u001b[0m\n\u001b[0m",
      "\u001b[1;32mD:\\Desktop\\CoursMVA\\projectBml\\PyDeepGP\\deepgp\\util\\util.py\u001b[0m in \u001b[0;36mvisualize_DGP\u001b[1;34m(model, labels, layer, dims)\u001b[0m\n\u001b[0;32m    140\u001b[0m     \u001b[0mcolors\u001b[0m \u001b[1;33m=\u001b[0m \u001b[1;33m[\u001b[0m\u001b[1;34m'r'\u001b[0m\u001b[1;33m,\u001b[0m\u001b[1;34m'g'\u001b[0m\u001b[1;33m,\u001b[0m \u001b[1;34m'b'\u001b[0m\u001b[1;33m,\u001b[0m \u001b[1;34m'm'\u001b[0m\u001b[1;33m]\u001b[0m\u001b[1;33m\u001b[0m\u001b[1;33m\u001b[0m\u001b[0m\n\u001b[0;32m    141\u001b[0m     \u001b[0mmarkers\u001b[0m \u001b[1;33m=\u001b[0m \u001b[1;33m[\u001b[0m\u001b[1;34m'x'\u001b[0m\u001b[1;33m,\u001b[0m\u001b[1;34m'o'\u001b[0m\u001b[1;33m,\u001b[0m\u001b[1;34m'+'\u001b[0m\u001b[1;33m,\u001b[0m \u001b[1;34m'v'\u001b[0m\u001b[1;33m]\u001b[0m\u001b[1;33m\u001b[0m\u001b[1;33m\u001b[0m\u001b[0m\n\u001b[1;32m--> 142\u001b[1;33m     \u001b[1;32mfor\u001b[0m \u001b[0mi\u001b[0m \u001b[1;32min\u001b[0m \u001b[0mrange\u001b[0m\u001b[1;33m(\u001b[0m\u001b[0mmodel\u001b[0m\u001b[1;33m.\u001b[0m\u001b[0mlayers\u001b[0m\u001b[1;33m[\u001b[0m\u001b[0mlayer\u001b[0m\u001b[1;33m]\u001b[0m\u001b[1;33m.\u001b[0m\u001b[0mX\u001b[0m\u001b[1;33m.\u001b[0m\u001b[0mmean\u001b[0m\u001b[1;33m.\u001b[0m\u001b[0mshape\u001b[0m\u001b[1;33m[\u001b[0m\u001b[1;36m0\u001b[0m\u001b[1;33m]\u001b[0m\u001b[1;33m)\u001b[0m\u001b[1;33m:\u001b[0m\u001b[1;33m\u001b[0m\u001b[1;33m\u001b[0m\u001b[0m\n\u001b[0m\u001b[0;32m    143\u001b[0m         \u001b[0mplt\u001b[0m\u001b[1;33m.\u001b[0m\u001b[0mscatter\u001b[0m\u001b[1;33m(\u001b[0m\u001b[0mmodel\u001b[0m\u001b[1;33m.\u001b[0m\u001b[0mlayers\u001b[0m\u001b[1;33m[\u001b[0m\u001b[0mlayer\u001b[0m\u001b[1;33m]\u001b[0m\u001b[1;33m.\u001b[0m\u001b[0mX\u001b[0m\u001b[1;33m.\u001b[0m\u001b[0mmean\u001b[0m\u001b[1;33m[\u001b[0m\u001b[0mi\u001b[0m\u001b[1;33m,\u001b[0m\u001b[1;36m0\u001b[0m\u001b[1;33m]\u001b[0m\u001b[1;33m,\u001b[0m\u001b[0mmodel\u001b[0m\u001b[1;33m.\u001b[0m\u001b[0mlayers\u001b[0m\u001b[1;33m[\u001b[0m\u001b[0mlayer\u001b[0m\u001b[1;33m]\u001b[0m\u001b[1;33m.\u001b[0m\u001b[0mX\u001b[0m\u001b[1;33m.\u001b[0m\u001b[0mmean\u001b[0m\u001b[1;33m[\u001b[0m\u001b[0mi\u001b[0m\u001b[1;33m,\u001b[0m\u001b[1;36m1\u001b[0m\u001b[1;33m]\u001b[0m\u001b[1;33m,\u001b[0m\u001b[0mcolor\u001b[0m\u001b[1;33m=\u001b[0m\u001b[0mcolors\u001b[0m\u001b[1;33m[\u001b[0m\u001b[0mlabels\u001b[0m\u001b[1;33m[\u001b[0m\u001b[0mi\u001b[0m\u001b[1;33m]\u001b[0m\u001b[1;33m]\u001b[0m\u001b[1;33m,\u001b[0m \u001b[0ms\u001b[0m\u001b[1;33m=\u001b[0m\u001b[1;36m16\u001b[0m\u001b[1;33m,\u001b[0m \u001b[0mmarker\u001b[0m\u001b[1;33m=\u001b[0m\u001b[0mmarkers\u001b[0m\u001b[1;33m[\u001b[0m\u001b[0mlabels\u001b[0m\u001b[1;33m[\u001b[0m\u001b[0mi\u001b[0m\u001b[1;33m]\u001b[0m\u001b[1;33m]\u001b[0m\u001b[1;33m)\u001b[0m\u001b[1;33m\u001b[0m\u001b[1;33m\u001b[0m\u001b[0m\n",
      "\u001b[1;31mIndexError\u001b[0m: list index out of range"
     ]
    },
    {
     "data": {
      "image/png": "[encoded data removed]",
      "text/plain": [
       "<Figure size 360x360 with 1 Axes>"
      ]
     },
     "metadata": {
      "needs_background": "light"
     },
     "output_type": "display_data"
    },
    {
     "data": {
      "text/plain": [
       "<Figure size 360x360 with 0 Axes>"
      ]
     },
     "metadata": {},
     "output_type": "display_data"
    }
   ],
   "source": [
    "# From the plots above, we see which ones are the dominant dimensions for each layer. \n",
    "# So we use these dimensions in the visualization of the latent space below.\n",
    "plt.figure(figsize=(5,5))\n",
    "deepgp.util.visualize_DGP(m, labels, layer=0, dims=[1,2]); plt.title('Layer 0')\n",
    "plt.figure(figsize=(5,5))\n",
    "deepgp.util.visualize_DGP(m, labels, layer=1, dims=[0,1]); plt.title('Layer 1')"
   ]
  },
  {
   "cell_type": "markdown",
   "metadata": {},
   "source": [
    "## Supervised learning"
   ]
  },
  {
   "cell_type": "code",
   "execution_count": 23,
   "metadata": {},
   "outputs": [
    {
     "name": "stdout",
     "output_type": "stream",
     "text": [
      "Acquiring resource: cmu_mocap\n",
      "\n",
      "Details of data: \n",
      "CMU Motion Capture data base. Captured by a Vicon motion capture system consisting of 12 infrared MX-40 cameras, each of which is capable of recording at 120 Hz with images of 4 megapixel resolution. Motions are captured in a working volume of approximately 3m x 8m. The capture subject wears 41 markers and a stylish black garment.\n",
      "\n",
      "Please cite:\n",
      "Please include this in your acknowledgements: The data used in this project was obtained from mocap.cs.cmu.edu.\\nThe database was created with funding from NSF EIA-0196217.\n",
      "\n",
      "Data will be stored in C:\\Users\\33617/ods_data_cache/cmu_mocap.\n",
      "\n",
      "You must also agree to the following license:\n",
      "From http://mocap.cs.cmu.edu. This data is free for use in research projects. You may include this data in commercially-sold products, but you may not resell this data directly, even in converted form. If you publish results obtained using this data, we would appreciate it if you would send the citation to your published paper to jkh+mocap@cs.cmu.edu, and also would add this text to your acknowledgments section: The data used in this project was obtained from mocap.cs.cmu.edu. The database was created with funding from NSF EIA-0196217.\n",
      "\n",
      "Do you wish to proceed with the download? [yes/no]\n",
      "yes\n",
      "Downloading  http://mocap.cs.cmu.edu/subjects/35/35.asf -> C:\\Users\\33617/ods_data_cache/cmu_mocap\\35.asf\n",
      "[==============================]   0.007/0.007MB                                                \n",
      "Downloading  http://mocap.cs.cmu.edu/subjects/35/35_01.amc -> C:\\Users\\33617/ods_data_cache/cmu_mocap\\35_01.amc\n",
      "[==============================]   0.274/0.274MB                                                                                                                                                                                                                                                                                                                                                                                                                                                                                                                                                                                                                                                                                                                                                                                                                                                                                                                                                                                                                                                                                                                                                                                                                                                                                                                                                                                                                                                                                                                                                                                                                                                                                                                                                                                                \n",
      "Downloading  http://mocap.cs.cmu.edu/subjects/35/35_02.amc -> C:\\Users\\33617/ods_data_cache/cmu_mocap\\35_02.amc\n",
      "[==============================]   0.310/0.310MB                                                                                                                                                                                                                                                                                                                                                                                                                                                                                                                                                                                                                                                                                                                                                                                                                                                                                                                                                                                                                                                                                                                                                                                                                                                                                                                                                                                                                                                                                                                                                                                                                                                                                                                                                                                                                                                                                                                                                                                                \n",
      "Downloading  http://mocap.cs.cmu.edu/subjects/35/35_03.amc -> C:\\Users\\33617/ods_data_cache/cmu_mocap\\35_03.amc\n",
      "[==============================]   0.327/0.327MB                                                                                                                                                                                                                                                                                                                                                                                                                                                                                                                                                                                                                                                                                                                                                                                                                                                                                                                                                                                                                                                                                                                                                                                                                                                                                                                                                                                                                                                                                                                                                                                                                                                                                                                                                                                                                                                                                                                                                                                                                                                                                                \n",
      "Downloading  http://mocap.cs.cmu.edu/subjects/35/35_04.amc -> C:\\Users\\33617/ods_data_cache/cmu_mocap\\35_04.amc\n"
     ]
    },
    {
     "name": "stdout",
     "output_type": "stream",
     "text": [
      "[==============================]   0.331/0.331MB                                                                                                                                                                                                                                                                                                                                                                                                                                                                                                                                                                                                                                                                                                                                                                                                                                                                                                                                                                                                                                                                                                                                                                                                                                                                                                                                                                                                                                                                                                                                                                                                                                                                                                                                                                                                                                                                                                                                                                                                                                                                                                \n",
      "Downloading  http://mocap.cs.cmu.edu/subjects/35/35_05.amc -> C:\\Users\\33617/ods_data_cache/cmu_mocap\\35_05.amc\n",
      "[==============================]   0.326/0.326MB                                                                                                                                                                                                                                                                                                                                                                                                                                                                                                                                                                                                                                                                                                                                                                                                                                                                                                                                                                                                                                                                                                                                                                                                                                                                                                                                                                                                                                                                                                                                                                                                                                                                                                                                                                                                                                                                                                                                                                                                                                                                                                \n",
      "Downloading  http://mocap.cs.cmu.edu/subjects/35/35_06.amc -> C:\\Users\\33617/ods_data_cache/cmu_mocap\\35_06.amc\n",
      "[==============================]   0.336/0.336MB                                                                                                                                                                                                                                                                                                                                                                                                                                                                                                                                                                                                                                                                                                                                                                                                                                                                                                                                                                                                                                                                                                                                                                                                                                                                                                                                                                                                                                                                                                                                                                                                                                                                                                                                                                                                                                                                                                                                                                                                                                                                                                                                                \n",
      "Downloading  http://mocap.cs.cmu.edu/subjects/35/35_07.amc -> C:\\Users\\33617/ods_data_cache/cmu_mocap\\35_07.amc\n"
     ]
    },
    {
     "name": "stdout",
     "output_type": "stream",
     "text": [
      "[==============================]   0.275/0.275MB                                                                                                                                                                                                                                                                                                                                                                                                                                                                                                                                                                                                                                                                                                                                                                                                                                                                                                                                                                                                                                                                                                                                                                                                                                                                                                                                                                                                                                                                                                                                                                                                                                                                                                                                                \n",
      "Downloading  http://mocap.cs.cmu.edu/subjects/35/35_08.amc -> C:\\Users\\33617/ods_data_cache/cmu_mocap\\35_08.amc\n",
      "[==============================]   0.348/0.348MB                                                                                                                                                                                                                                                                                                                                                                                                                                                                                                                                                                                                                                                                                                                                                                                                                                                                                                                                                                                                                                                                                                                                                                                                                                                                                                                                                                                                                                                                                                                                                                                                                                                                                                                                                                                                                                                                                                                                                                                                                                                                                                                                                                                                                                                \n",
      "Downloading  http://mocap.cs.cmu.edu/subjects/35/35_09.amc -> C:\\Users\\33617/ods_data_cache/cmu_mocap\\35_09.amc\n",
      "[==============================]   0.294/0.294MB                                                                                                                                                                                                                                                                                                                                                                                                                                                                                                                                                                                                                                                                                                                                                                                                                                                                                                                                                                                                                                                                                                                                                                                                                                                                                                                                                                                                                                                                                                                                                                                                                                                                                                                                                                                                                                                                                                \n",
      "Downloading  http://mocap.cs.cmu.edu/subjects/35/35_10.amc -> C:\\Users\\33617/ods_data_cache/cmu_mocap\\35_10.amc\n"
     ]
    },
    {
     "name": "stdout",
     "output_type": "stream",
     "text": [
      "[==============================]   0.330/0.330MB                                                                                                                                                                                                                                                                                                                                                                                                                                                                                                                                                                                                                                                                                                                                                                                                                                                                                                                                                                                                                                                                                                                                                                                                                                                                                                                                                                                                                                                                                                                                                                                                                                                                                                                                                                                                                                                                                                                                                                                                                                                                                                                                                \n",
      "Downloading  http://mocap.cs.cmu.edu/subjects/35/35_11.amc -> C:\\Users\\33617/ods_data_cache/cmu_mocap\\35_11.amc\n",
      "[==============================]   0.295/0.295MB                                                                                                                                                                                                                                                                                                                                                                                                                                                                                                                                                                                                                                                                                                                                                                                                                                                                                                                                                                                                                                                                                                                                                                                                                                                                                                                                                                                                                                                                                                                                                                                                                                                                                                                                                                                                                                                                                                \n",
      "Downloading  http://mocap.cs.cmu.edu/subjects/35/35_12.amc -> C:\\Users\\33617/ods_data_cache/cmu_mocap\\35_12.amc\n",
      "[==============================]   0.304/0.304MB                                                                                                                                                                                                                                                                                                                                                                                                                                                                                                                                                                                                                                                                                                                                                                                                                                                                                                                                                                                                                                                                                                                                                                                                                                                                                                                                                                                                                                                                                                                                                                                                                                                                                                                                                                                                                                                                                                                                                \n",
      "Downloading  http://mocap.cs.cmu.edu/subjects/35/35_13.amc -> C:\\Users\\33617/ods_data_cache/cmu_mocap\\35_13.amc\n"
     ]
    },
    {
     "name": "stdout",
     "output_type": "stream",
     "text": [
      "[==============================]   0.347/0.347MB                                                                                                                                                                                                                                                                                                                                                                                                                                                                                                                                                                                                                                                                                                                                                                                                                                                                                                                                                                                                                                                                                                                                                                                                                                                                                                                                                                                                                                                                                                                                                                                                                                                                                                                                                                                                                                                                                                                                                                                                                                                                                                                                                                                                \n",
      "Downloading  http://mocap.cs.cmu.edu/subjects/35/35_14.amc -> C:\\Users\\33617/ods_data_cache/cmu_mocap\\35_14.amc\n",
      "[==============================]   0.315/0.315MB                                                                                                                                                                                                                                                                                                                                                                                                                                                                                                                                                                                                                                                                                                                                                                                                                                                                                                                                                                                                                                                                                                                                                                                                                                                                                                                                                                                                                                                                                                                                                                                                                                                                                                                                                                                                                                                                                                                                                                                                                                                \n",
      "Downloading  http://mocap.cs.cmu.edu/subjects/35/35_15.amc -> C:\\Users\\33617/ods_data_cache/cmu_mocap\\35_15.amc\n",
      "[==============================]   0.311/0.311MB                                                                                                                                                                                                                                                                                                                                                                                                                                                                                                                                                                                                                                                                                                                                                                                                                                                                                                                                                                                                                                                                                                                                                                                                                                                                                                                                                                                                                                                                                                                                                                                                                                                                                                                                                                                                                                                                                                                                                                                                \n",
      "Downloading  http://mocap.cs.cmu.edu/subjects/35/35_16.amc -> C:\\Users\\33617/ods_data_cache/cmu_mocap\\35_16.amc\n"
     ]
    },
    {
     "name": "stdout",
     "output_type": "stream",
     "text": [
      "[==============================]   0.339/0.339MB                                                                                                                                                                                                                                                                                                                                                                                                                                                                                                                                                                                                                                                                                                                                                                                                                                                                                                                                                                                                                                                                                                                                                                                                                                                                                                                                                                                                                                                                                                                                                                                                                                                                                                                                                                                                                                                                                                                                                                                                                                                                                                                                                \n",
      "Downloading  http://mocap.cs.cmu.edu/subjects/35/35_17.amc -> C:\\Users\\33617/ods_data_cache/cmu_mocap\\35_17.amc\n",
      "[==============================]   0.127/0.127MB                                                                                                                                                                                                                                                                                                                                                                                                                                                                                                                                                                                                                                                                                                                                                                                                                                                \n",
      "Downloading  http://mocap.cs.cmu.edu/subjects/35/35_19.amc -> C:\\Users\\33617/ods_data_cache/cmu_mocap\\35_19.amc\n",
      "[==============================]   0.122/0.122MB                                                                                                                                                                                                                                                                                                                                                                                                                                                                                                                                                                                                                                                                                                                                                                                                \n",
      "Downloading  http://mocap.cs.cmu.edu/subjects/35/35_20.amc -> C:\\Users\\33617/ods_data_cache/cmu_mocap\\35_20.amc\n",
      "[==============================]   0.124/0.124MB                                                                                                                                                                                                                                                                                                                                                                                                                                                                                                                                                                                                                                                                                                                                                                                                \n",
      "Downloading  http://mocap.cs.cmu.edu/subjects/35/35_21.amc -> C:\\Users\\33617/ods_data_cache/cmu_mocap\\35_21.amc\n",
      "[==============================]   0.123/0.123MB                                                                                                                                                                                                                                                                                                                                                                                                                                                                                                                                                                                                                                                                                                                                                                                                \n",
      "Downloading  http://mocap.cs.cmu.edu/subjects/35/35_22.amc -> C:\\Users\\33617/ods_data_cache/cmu_mocap\\35_22.amc\n",
      "[==============================]   0.127/0.127MB                                                                                                                                                                                                                                                                                                                                                                                                                                                                                                                                                                                                                                                                                                                                                                                                                                                \n",
      "Downloading  http://mocap.cs.cmu.edu/subjects/35/35_23.amc -> C:\\Users\\33617/ods_data_cache/cmu_mocap\\35_23.amc\n",
      "[==============================]   0.123/0.123MB                                                                                                                                                                                                                                                                                                                                                                                                                                                                                                                                                                                                                                                                                                                                                                                                \n",
      "Downloading  http://mocap.cs.cmu.edu/subjects/35/35_24.amc -> C:\\Users\\33617/ods_data_cache/cmu_mocap\\35_24.amc\n"
     ]
    },
    {
     "name": "stdout",
     "output_type": "stream",
     "text": [
      "[==============================]   0.114/0.114MB                                                                                                                                                                                                                                                                                                                                                                                                                                                                                                                                                                                                                                                                                                \n",
      "Downloading  http://mocap.cs.cmu.edu/subjects/35/35_25.amc -> C:\\Users\\33617/ods_data_cache/cmu_mocap\\35_25.amc\n",
      "[==============================]   0.126/0.126MB                                                                                                                                                                                                                                                                                                                                                                                                                                                                                                                                                                                                                                                                                                                                                                                                                                                \n",
      "Downloading  http://mocap.cs.cmu.edu/subjects/35/35_26.amc -> C:\\Users\\33617/ods_data_cache/cmu_mocap\\35_26.amc\n",
      "[==============================]   0.105/0.105MB                                                                                                                                                                                                                                                                                                                                                                                                                                                                                                                                                                                                                                                                                                \n",
      "Downloading  http://mocap.cs.cmu.edu/subjects/35/35_28.amc -> C:\\Users\\33617/ods_data_cache/cmu_mocap\\35_28.amc\n",
      "[==============================]   0.319/0.319MB                                                                                                                                                                                                                                                                                                                                                                                                                                                                                                                                                                                                                                                                                                                                                                                                                                                                                                                                                                                                                                                                                                                                                                                                                                                                                                                                                                                                                                                                                                                                                                                                                                                                                                                                                                                                                                                                                                                                                                                                                                                \n",
      "Downloading  http://mocap.cs.cmu.edu/subjects/35/35_30.amc -> C:\\Users\\33617/ods_data_cache/cmu_mocap\\35_30.amc\n",
      "[==============================]   0.315/0.315MB                                                                                                                                                                                                                                                                                                                                                                                                                                                                                                                                                                                                                                                                                                                                                                                                                                                                                                                                                                                                                                                                                                                                                                                                                                                                                                                                                                                                                                                                                                                                                                                                                                                                                                                                                                                                                                                                                                                                                                                                                                                \n",
      "Downloading  http://mocap.cs.cmu.edu/subjects/35/35_31.amc -> C:\\Users\\33617/ods_data_cache/cmu_mocap\\35_31.amc\n"
     ]
    },
    {
     "name": "stdout",
     "output_type": "stream",
     "text": [
      "[==============================]   0.321/0.321MB                                                                                                                                                                                                                                                                                                                                                                                                                                                                                                                                                                                                                                                                                                                                                                                                                                                                                                                                                                                                                                                                                                                                                                                                                                                                                                                                                                                                                                                                                                                                                                                                                                                                                                                                                                                                                                                                                                                                                                                                                                                \n",
      "Downloading  http://mocap.cs.cmu.edu/subjects/35/35_32.amc -> C:\\Users\\33617/ods_data_cache/cmu_mocap\\35_32.amc\n",
      "[==============================]   0.300/0.300MB                                                                                                                                                                                                                                                                                                                                                                                                                                                                                                                                                                                                                                                                                                                                                                                                                                                                                                                                                                                                                                                                                                                                                                                                                                                                                                                                                                                                                                                                                                                                                                                                                                                                                                                                                                                                                                                                                                                                                \n",
      "Downloading  http://mocap.cs.cmu.edu/subjects/35/35_33.amc -> C:\\Users\\33617/ods_data_cache/cmu_mocap\\35_33.amc\n",
      "[==============================]   0.322/0.322MB                                                                                                                                                                                                                                                                                                                                                                                                                                                                                                                                                                                                                                                                                                                                                                                                                                                                                                                                                                                                                                                                                                                                                                                                                                                                                                                                                                                                                                                                                                                                                                                                                                                                                                                                                                                                                                                                                                                                                                                                                                                                                                \n",
      "Downloading  http://mocap.cs.cmu.edu/subjects/35/35_34.amc -> C:\\Users\\33617/ods_data_cache/cmu_mocap\\35_34.amc\n"
     ]
    },
    {
     "name": "stdout",
     "output_type": "stream",
     "text": [
      "[==============================]   0.317/0.317MB                                                                                                                                                                                                                                                                                                                                                                                                                                                                                                                                                                                                                                                                                                                                                                                                                                                                                                                                                                                                                                                                                                                                                                                                                                                                                                                                                                                                                                                                                                                                                                                                                                                                                                                                                                                                                                                                                                                                                                                                \n",
      "Downloading  http://mocap.cs.cmu.edu/subjects/35/35_18.amc -> C:\\Users\\33617/ods_data_cache/cmu_mocap\\35_18.amc\n",
      "[==============================]   0.133/0.133MB                                                                                                                                                                                                                                                                                                                                                                                                                                                                                                                                                                                                                                                                                                                                                                                                                                                                                                \n",
      "Downloading  http://mocap.cs.cmu.edu/subjects/35/35_29.amc -> C:\\Users\\33617/ods_data_cache/cmu_mocap\\35_29.amc\n",
      "[==============================]   0.380/0.380MB                                                                                                                                                                                                                                                                                                                                                                                                                                                                                                                                                                                                                                                                                                                                                                                                                                                                                                                                                                                                                                                                                                                                                                                                                                                                                                                                                                                                                                                                                                                                                                                                                                                                                                                                                                                                                                                                                                                                                                                                                                                                                                                                                                                                                                                                                                                                                                                                                                                \n"
     ]
    }
   ],
   "source": [
    "# Load some mocap data.\n",
    "data = pods.datasets.cmu_mocap_35_walk_jog()\n",
    "\n",
    "Ntr = 100\n",
    "Nts = 500\n",
    "\n",
    "\n",
    "# All data represented in Y_all, which is the angles of the movement of the subject\n",
    "Y_all = data['Y']\n",
    "perm = np.random.permutation(Ntr+Nts)\n",
    "index_training = np.sort(perm[0:Ntr])\n",
    "index_test     = np.sort(perm[Ntr:Ntr+Nts])\n",
    "\n",
    "Y_all_tr = Y_all[index_training,:]\n",
    "Y_all_ts = Y_all[index_test,    :]\n",
    "\n",
    "\n",
    "# Some of the features (body joints) to be used as inputs, and some as outputs\n",
    "X_tr = Y_all_tr[:,0:55].copy()\n",
    "Y_tr = Y_all_tr[:, 55:].copy()\n",
    "\n",
    "X_ts = Y_all_ts[:,0:55].copy()\n",
    "Y_ts = Y_all_ts[:, 55:].copy()\n",
    "\n",
    "# TODO: You might need to normalize the input and/or output data."
   ]
  },
  {
   "cell_type": "code",
   "execution_count": 24,
   "metadata": {},
   "outputs": [],
   "source": [
    "# Number of latent dimensions (single hidden layer, since the top layer is observed)\n",
    "Q = 5\n",
    "\n",
    "# Define what kernels to use per layer\n",
    "kern1 = GPy.kern.RBF(Q,ARD=True) + GPy.kern.Bias(Q)\n",
    "kern2 = GPy.kern.RBF(Q,ARD=False) + GPy.kern.Bias(X_tr.shape[1])\n",
    "\n",
    "# Number of inducing points to use\n",
    "num_inducing = 40\n",
    "\n",
    "# Whether to use back-constraint for variational posterior\n",
    "back_constraint = False\n",
    "\n",
    "# Dimensions of the MLP back-constraint if set to true\n",
    "encoder_dims=[[300],[150]]"
   ]
  },
  {
   "cell_type": "code",
   "execution_count": 25,
   "metadata": {},
   "outputs": [],
   "source": [
    "m = deepgp.DeepGP([Y_tr.shape[1],Q,X_tr.shape[1]],\n",
    "                  Y_tr, X_tr=X_tr,kernels=[kern1, kern2], \n",
    "                  num_inducing=num_inducing, back_constraint=back_constraint)"
   ]
  },
  {
   "cell_type": "code",
   "execution_count": 26,
   "metadata": {},
   "outputs": [],
   "source": [
    "# Make sure initial noise variance gives a reasonable signal to noise ratio.\n",
    "# Fix to that value for a few iterations to avoid early local minima\n",
    "for i in range(len(m.layers)):\n",
    "    output_var = m.layers[i].Y.var() if i==0 else m.layers[i].Y.mean.var()\n",
    "    m.layers[i].Gaussian_noise.variance = output_var*0.01\n",
    "    m.layers[i].Gaussian_noise.variance.fix()"
   ]
  },
  {
   "cell_type": "code",
   "execution_count": 27,
   "metadata": {},
   "outputs": [
    {
     "data": {
      "text/html": [
       "<style type=\"text/css\">\n",
       ".pd{\n",
       "    font-family: \"Courier New\", Courier, monospace !important;\n",
       "    width: 100%;\n",
       "    padding: 3px;\n",
       "}\n",
       "</style>\n",
       "\n",
       "<p class=pd>\n",
       "<b>Model</b>: deepgp<br>\n",
       "<b>Objective</b>: 28203.842608435898<br>\n",
       "<b>Number of Parameters</b>: 14492<br>\n",
       "<b>Number of Optimization Parameters</b>: 14490<br>\n",
       "<b>Updates</b>: True<br>\n",
       "</p>\n",
       "<style type=\"text/css\">\n",
       ".tg  {font-family:\"Courier New\", Courier, monospace !important;padding:2px 3px;word-break:normal;border-collapse:collapse;border-spacing:0;border-color:#DCDCDC;margin:0px auto;width:100%;}\n",
       ".tg td{font-family:\"Courier New\", Courier, monospace !important;font-weight:bold;color:#444;background-color:#F7FDFA;border-style:solid;border-width:1px;overflow:hidden;word-break:normal;border-color:#DCDCDC;}\n",
       ".tg th{font-family:\"Courier New\", Courier, monospace !important;font-weight:normal;color:#fff;background-color:#26ADE4;border-style:solid;border-width:1px;overflow:hidden;word-break:normal;border-color:#DCDCDC;}\n",
       ".tg .tg-left{font-family:\"Courier New\", Courier, monospace !important;font-weight:normal;text-align:left;}\n",
       ".tg .tg-center{font-family:\"Courier New\", Courier, monospace !important;font-weight:normal;text-align:center;}\n",
       ".tg .tg-right{font-family:\"Courier New\", Courier, monospace !important;font-weight:normal;text-align:right;}\n",
       "</style>\n",
       "<table class=\"tg\"><tr><th><b>  deepgp.                         </b></th><th><b>               value</b></th><th><b>constraints</b></th><th><b>priors</b></th></tr>\n",
       "<tr><td class=tg-left>  obslayer.inducing inputs        </td><td class=tg-right>             (40, 5)</td><td class=tg-center>           </td><td class=tg-center>      </td></tr>\n",
       "<tr><td class=tg-left>  obslayer.sum.rbf.variance       </td><td class=tg-right>                 1.0</td><td class=tg-center>    +ve    </td><td class=tg-center>      </td></tr>\n",
       "<tr><td class=tg-left>  obslayer.sum.rbf.lengthscale    </td><td class=tg-right>                (5,)</td><td class=tg-center>    +ve    </td><td class=tg-center>      </td></tr>\n",
       "<tr><td class=tg-left>  obslayer.sum.bias.variance      </td><td class=tg-right>                 1.0</td><td class=tg-center>    +ve    </td><td class=tg-center>      </td></tr>\n",
       "<tr><td class=tg-left>  obslayer.Gaussian_noise.variance</td><td class=tg-right>  2.1261182745572187</td><td class=tg-center> +ve fixed </td><td class=tg-center>      </td></tr>\n",
       "<tr><td class=tg-left>  obslayer.Kuu_var                </td><td class=tg-right>               (40,)</td><td class=tg-center>    +ve    </td><td class=tg-center>      </td></tr>\n",
       "<tr><td class=tg-left>  obslayer.latent space.mean      </td><td class=tg-right>            (100, 5)</td><td class=tg-center>           </td><td class=tg-center>      </td></tr>\n",
       "<tr><td class=tg-left>  obslayer.latent space.variance  </td><td class=tg-right>            (100, 5)</td><td class=tg-center>    +ve    </td><td class=tg-center>      </td></tr>\n",
       "<tr><td class=tg-left>  layer_1.inducing inputs         </td><td class=tg-right>            (40, 55)</td><td class=tg-center>           </td><td class=tg-center>      </td></tr>\n",
       "<tr><td class=tg-left>  layer_1.sum.rbf.variance        </td><td class=tg-right>                 1.0</td><td class=tg-center>    +ve    </td><td class=tg-center>      </td></tr>\n",
       "<tr><td class=tg-left>  layer_1.sum.rbf.lengthscale     </td><td class=tg-right>                 1.0</td><td class=tg-center>    +ve    </td><td class=tg-center>      </td></tr>\n",
       "<tr><td class=tg-left>  layer_1.sum.bias.variance       </td><td class=tg-right>                 1.0</td><td class=tg-center>    +ve    </td><td class=tg-center>      </td></tr>\n",
       "<tr><td class=tg-left>  layer_1.Gaussian_noise.variance </td><td class=tg-right>0.010000397813269366</td><td class=tg-center> +ve fixed </td><td class=tg-center>      </td></tr>\n",
       "<tr><td class=tg-left>  layer_1.Kuu_var                 </td><td class=tg-right>               (40,)</td><td class=tg-center>    +ve    </td><td class=tg-center>      </td></tr>\n",
       "<tr><td class=tg-left>  layer_1.latent space.mean       </td><td class=tg-right>           (100, 55)</td><td class=tg-center>           </td><td class=tg-center>      </td></tr>\n",
       "<tr><td class=tg-left>  layer_1.latent space.variance   </td><td class=tg-right>           (100, 55)</td><td class=tg-center>    +ve    </td><td class=tg-center>      </td></tr>\n",
       "</table>"
      ],
      "text/plain": [
       "<deepgp.models.model.DeepGP at 0x1c328a8ae48>"
      ]
     },
     "metadata": {},
     "output_type": "display_data"
    }
   ],
   "source": [
    "display(m)"
   ]
  },
  {
   "cell_type": "code",
   "execution_count": 28,
   "metadata": {},
   "outputs": [
    {
     "data": {
      "application/vnd.jupyter.widget-view+json": {
       "model_id": "9bd7207352cc47beafc1ff28a9eca8a6",
       "version_major": 2,
       "version_minor": 0
      },
      "text/plain": [
       "HBox(children=(VBox(children=(IntProgress(value=0, max=800), HTML(value=''))), Box(children=(HTML(value=''),))…"
      ]
     },
     "metadata": {},
     "output_type": "display_data"
    }
   ],
   "source": [
    "m.optimize(max_iters=800, messages=True)"
   ]
  },
  {
   "cell_type": "code",
   "execution_count": 29,
   "metadata": {},
   "outputs": [],
   "source": [
    "# Unfix noise variance now that we have initialized the model\n",
    "for i in range(len(m.layers)):\n",
    "    m.layers[i].Gaussian_noise.variance.unfix()"
   ]
  },
  {
   "cell_type": "code",
   "execution_count": 30,
   "metadata": {},
   "outputs": [
    {
     "data": {
      "application/vnd.jupyter.widget-view+json": {
       "model_id": "72901c3db300484dbef558e0f55c9517",
       "version_major": 2,
       "version_minor": 0
      },
      "text/plain": [
       "HBox(children=(VBox(children=(IntProgress(value=0, max=1500), HTML(value=''))), Box(children=(HTML(value=''),)…"
      ]
     },
     "metadata": {},
     "output_type": "display_data"
    }
   ],
   "source": [
    "m.optimize(max_iters=1500, messages=True)"
   ]
  },
  {
   "cell_type": "markdown",
   "metadata": {},
   "source": [
    "### Compare with GP"
   ]
  },
  {
   "cell_type": "code",
   "execution_count": 20,
   "metadata": {
    "collapsed": true
   },
   "outputs": [],
   "source": [
    "m_GP = GPy.models.SparseGPRegression(X=X_tr, Y=Y_tr, kernel=GPy.kern.RBF(X_tr.shape[1])+GPy.kern.Bias(X_tr.shape[1]), num_inducing=num_inducing)"
   ]
  },
  {
   "cell_type": "code",
   "execution_count": 21,
   "metadata": {},
   "outputs": [
    {
     "name": "stdout",
     "output_type": "stream",
     "text": [
      "Running L-BFGS-B (Scipy implementation) Code:\n",
      "  runtime   i     f              |g|        \n",
      "    00s19  006   2.463751e+03   4.986610e+02 \n",
      "    00s33  027   2.339956e+03   5.774437e-11 \n",
      "Runtime:     00s33\n",
      "Optimization status: Converged\n",
      "\n",
      "Running L-BFGS-B (Scipy implementation) Code:\n",
      "  runtime   i     f              |g|        \n",
      "    00s07  004   1.855557e+03   2.678079e+03 \n",
      "    00s18  011   1.778417e+03   5.465010e-02 \n",
      "    00s32  029   1.778190e+03   1.885596e-09 \n",
      "Runtime:     00s32\n",
      "Optimization status: Converged\n",
      "\n"
     ]
    },
    {
     "data": {
      "text/plain": [
       "<paramz.optimization.optimization.opt_lbfgsb at 0x11c78de10>"
      ]
     },
     "execution_count": 21,
     "metadata": {},
     "output_type": "execute_result"
    }
   ],
   "source": [
    "m_GP.Gaussian_noise.variance = m_GP.Y.var()*0.01\n",
    "m_GP.Gaussian_noise.variance.fix()\n",
    "m_GP.optimize(max_iters=100, messages=True)\n",
    "m_GP.Gaussian_noise.variance.unfix()\n",
    "m_GP.optimize(max_iters=400, messages=True)"
   ]
  },
  {
   "cell_type": "code",
   "execution_count": 22,
   "metadata": {
    "collapsed": true
   },
   "outputs": [],
   "source": [
    "def rmse(predictions, targets):\n",
    "    return np.sqrt(((predictions.flatten() - targets.flatten()) ** 2).mean())\n"
   ]
  },
  {
   "cell_type": "code",
   "execution_count": 23,
   "metadata": {},
   "outputs": [
    {
     "name": "stdout",
     "output_type": "stream",
     "text": [
      "# RMSE DGP               : 3.03000726496\n",
      "# RMSE DGP (with samples): 3.03436330576\n",
      "# RMSE GP                : 3.02347121967\n"
     ]
    }
   ],
   "source": [
    "Y_pred = m.predict(X_ts)[0]\n",
    "Y_pred_s = m.predict_withSamples(X_ts, nSamples=500)[0]\n",
    "Y_pred_GP = m_GP.predict(X_ts)[0]\n",
    "\n",
    "print('# RMSE DGP               : ' + str(rmse(Y_pred, Y_ts)))\n",
    "print('# RMSE DGP (with samples): ' + str(rmse(Y_pred_s, Y_ts)))\n",
    "print('# RMSE GP                : ' + str(rmse(Y_pred_GP, Y_ts)))"
   ]
  },
  {
   "cell_type": "code",
   "execution_count": null,
   "metadata": {
    "collapsed": true
   },
   "outputs": [],
   "source": []
  }
 ],
 "metadata": {
  "anaconda-cloud": {},
  "kernelspec": {
   "display_name": "Python 3",
   "language": "python",
   "name": "python3"
  },
  "language_info": {
   "codemirror_mode": {
    "name": "ipython",
    "version": 3
   },
   "file_extension": ".py",
   "mimetype": "text/x-python",
   "name": "python",
   "nbconvert_exporter": "python",
   "pygments_lexer": "ipython3",
   "version": "3.7.4"
  }
 },
 "nbformat": 4,
 "nbformat_minor": 1
}
