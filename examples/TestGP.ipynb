{
  "nbformat": 4,
  "nbformat_minor": 0,
  "metadata": {
    "kernelspec": {
      "name": "python3",
      "display_name": "Python 3"
    },
    "language_info": {
      "codemirror_mode": {
        "name": "ipython",
        "version": 3
      },
      "file_extension": ".py",
      "mimetype": "text/x-python",
      "name": "python",
      "nbconvert_exporter": "python",
      "pygments_lexer": "ipython3",
      "version": "3.7.4"
    },
    "colab": {
      "name": "TestGP.ipynb",
      "provenance": [],
      "collapsed_sections": []
    },
    "accelerator": "GPU"
  },
  "cells": [
    {
      "cell_type": "markdown",
      "metadata": {
        "id": "fN6r3iPCyXz8",
        "colab_type": "text"
      },
      "source": [
        "### Unsupervised Learning with GP-LVM"
      ]
    },
    {
      "cell_type": "code",
      "metadata": {
        "id": "X3TrYebMylrV",
        "colab_type": "code",
        "outputId": "57523498-d09f-4349-ba41-45e59bf0aa18",
        "colab": {
          "base_uri": "https://localhost:8080/",
          "height": 134
        }
      },
      "source": [
        "!git clone https://github.com/GPflow/GPflow.git"
      ],
      "execution_count": 1,
      "outputs": [
        {
          "output_type": "stream",
          "text": [
            "Cloning into 'GPflow'...\n",
            "remote: Enumerating objects: 271, done.\u001b[K\n",
            "remote: Counting objects: 100% (271/271), done.\u001b[K\n",
            "remote: Compressing objects: 100% (194/194), done.\u001b[K\n",
            "remote: Total 18244 (delta 129), reused 151 (delta 77), pack-reused 17973\u001b[K\n",
            "Receiving objects: 100% (18244/18244), 65.03 MiB | 26.50 MiB/s, done.\n",
            "Resolving deltas: 100% (13221/13221), done.\n"
          ],
          "name": "stdout"
        }
      ]
    },
    {
      "cell_type": "code",
      "metadata": {
        "id": "Krt6nZpwy3mo",
        "colab_type": "code",
        "outputId": "7c036a27-93d2-40f6-ec1f-019b1bd0834a",
        "colab": {
          "base_uri": "https://localhost:8080/",
          "height": 34
        }
      },
      "source": [
        "%cd GPflow/"
      ],
      "execution_count": 2,
      "outputs": [
        {
          "output_type": "stream",
          "text": [
            "/content/GPflow\n"
          ],
          "name": "stdout"
        }
      ]
    },
    {
      "cell_type": "code",
      "metadata": {
        "id": "QiPoSsHpy6_6",
        "colab_type": "code",
        "outputId": "4f8be9f6-9c2c-457f-8a7c-9a17698eaa03",
        "colab": {
          "base_uri": "https://localhost:8080/",
          "height": 759
        }
      },
      "source": [
        "pip install ."
      ],
      "execution_count": 3,
      "outputs": [
        {
          "output_type": "stream",
          "text": [
            "Processing /content/GPflow\n",
            "Requirement already satisfied: numpy>=1.10.0 in /usr/local/lib/python3.6/dist-packages (from gpflow==2.0.0rc1) (1.17.5)\n",
            "Requirement already satisfied: scipy>=0.18.0 in /usr/local/lib/python3.6/dist-packages (from gpflow==2.0.0rc1) (1.4.1)\n",
            "Collecting multipledispatch>=0.4.9\n",
            "  Downloading https://files.pythonhosted.org/packages/89/79/429ecef45fd5e4504f7474d4c3c3c4668c267be3370e4c2fd33e61506833/multipledispatch-0.6.0-py3-none-any.whl\n",
            "Requirement already satisfied: tabulate in /usr/local/lib/python3.6/dist-packages (from gpflow==2.0.0rc1) (0.8.6)\n",
            "Requirement already satisfied: gast==0.2.2 in /usr/local/lib/python3.6/dist-packages (from gpflow==2.0.0rc1) (0.2.2)\n",
            "Requirement already satisfied: dataclasses in /usr/local/lib/python3.6/dist-packages (from gpflow==2.0.0rc1) (0.7)\n",
            "Collecting tensorflow-probability>=0.9\n",
            "\u001b[?25l  Downloading https://files.pythonhosted.org/packages/9b/ed/f587d64127bbb85e539f06a2aace1240b7b5c6b4267bea94f232230551a5/tensorflow_probability-0.9.0-py2.py3-none-any.whl (3.2MB)\n",
            "\u001b[K     |████████████████████████████████| 3.2MB 12.5MB/s \n",
            "\u001b[?25hRequirement already satisfied: tensorflow in /usr/local/lib/python3.6/dist-packages (from gpflow==2.0.0rc1) (1.15.0)\n",
            "Requirement already satisfied: six in /usr/local/lib/python3.6/dist-packages (from multipledispatch>=0.4.9->gpflow==2.0.0rc1) (1.12.0)\n",
            "Requirement already satisfied: decorator in /usr/local/lib/python3.6/dist-packages (from tensorflow-probability>=0.9->gpflow==2.0.0rc1) (4.4.1)\n",
            "Requirement already satisfied: cloudpickle>=1.2.2 in /usr/local/lib/python3.6/dist-packages (from tensorflow-probability>=0.9->gpflow==2.0.0rc1) (1.2.2)\n",
            "Requirement already satisfied: keras-applications>=1.0.8 in /usr/local/lib/python3.6/dist-packages (from tensorflow->gpflow==2.0.0rc1) (1.0.8)\n",
            "Requirement already satisfied: protobuf>=3.6.1 in /usr/local/lib/python3.6/dist-packages (from tensorflow->gpflow==2.0.0rc1) (3.10.0)\n",
            "Requirement already satisfied: termcolor>=1.1.0 in /usr/local/lib/python3.6/dist-packages (from tensorflow->gpflow==2.0.0rc1) (1.1.0)\n",
            "Requirement already satisfied: keras-preprocessing>=1.0.5 in /usr/local/lib/python3.6/dist-packages (from tensorflow->gpflow==2.0.0rc1) (1.1.0)\n",
            "Requirement already satisfied: wheel>=0.26 in /usr/local/lib/python3.6/dist-packages (from tensorflow->gpflow==2.0.0rc1) (0.34.2)\n",
            "Requirement already satisfied: absl-py>=0.7.0 in /usr/local/lib/python3.6/dist-packages (from tensorflow->gpflow==2.0.0rc1) (0.9.0)\n",
            "Requirement already satisfied: grpcio>=1.8.6 in /usr/local/lib/python3.6/dist-packages (from tensorflow->gpflow==2.0.0rc1) (1.27.1)\n",
            "Requirement already satisfied: tensorflow-estimator==1.15.1 in /usr/local/lib/python3.6/dist-packages (from tensorflow->gpflow==2.0.0rc1) (1.15.1)\n",
            "Requirement already satisfied: opt-einsum>=2.3.2 in /usr/local/lib/python3.6/dist-packages (from tensorflow->gpflow==2.0.0rc1) (3.1.0)\n",
            "Requirement already satisfied: tensorboard<1.16.0,>=1.15.0 in /usr/local/lib/python3.6/dist-packages (from tensorflow->gpflow==2.0.0rc1) (1.15.0)\n",
            "Requirement already satisfied: astor>=0.6.0 in /usr/local/lib/python3.6/dist-packages (from tensorflow->gpflow==2.0.0rc1) (0.8.1)\n",
            "Requirement already satisfied: wrapt>=1.11.1 in /usr/local/lib/python3.6/dist-packages (from tensorflow->gpflow==2.0.0rc1) (1.11.2)\n",
            "Requirement already satisfied: google-pasta>=0.1.6 in /usr/local/lib/python3.6/dist-packages (from tensorflow->gpflow==2.0.0rc1) (0.1.8)\n",
            "Requirement already satisfied: h5py in /usr/local/lib/python3.6/dist-packages (from keras-applications>=1.0.8->tensorflow->gpflow==2.0.0rc1) (2.8.0)\n",
            "Requirement already satisfied: setuptools in /usr/local/lib/python3.6/dist-packages (from protobuf>=3.6.1->tensorflow->gpflow==2.0.0rc1) (45.1.0)\n",
            "Requirement already satisfied: markdown>=2.6.8 in /usr/local/lib/python3.6/dist-packages (from tensorboard<1.16.0,>=1.15.0->tensorflow->gpflow==2.0.0rc1) (3.2.1)\n",
            "Requirement already satisfied: werkzeug>=0.11.15 in /usr/local/lib/python3.6/dist-packages (from tensorboard<1.16.0,>=1.15.0->tensorflow->gpflow==2.0.0rc1) (1.0.0)\n",
            "Building wheels for collected packages: gpflow\n",
            "  Building wheel for gpflow (setup.py) ... \u001b[?25l\u001b[?25hdone\n",
            "  Created wheel for gpflow: filename=gpflow-2.0.0rc1-cp36-none-any.whl size=191987 sha256=5b31da71716ac8c4b6c56671e5b5ac5384632238932b61fed69667c8359b27bd\n",
            "  Stored in directory: /tmp/pip-ephem-wheel-cache-cnkjtfj3/wheels/47/4c/15/2288f1725865c2406ba70240d99bab087ab0143e5c08ddc39c\n",
            "Successfully built gpflow\n",
            "\u001b[31mERROR: tensor2tensor 1.14.1 has requirement tensorflow-probability==0.7.0, but you'll have tensorflow-probability 0.9.0 which is incompatible.\u001b[0m\n",
            "Installing collected packages: multipledispatch, tensorflow-probability, gpflow\n",
            "  Found existing installation: tensorflow-probability 0.7.0\n",
            "    Uninstalling tensorflow-probability-0.7.0:\n",
            "      Successfully uninstalled tensorflow-probability-0.7.0\n",
            "Successfully installed gpflow-2.0.0rc1 multipledispatch-0.6.0 tensorflow-probability-0.9.0\n"
          ],
          "name": "stdout"
        }
      ]
    },
    {
      "cell_type": "code",
      "metadata": {
        "id": "szpkmTujBHxf",
        "colab_type": "code",
        "outputId": "3bb432de-ae88-4d7a-996b-6bc09d2895e2",
        "colab": {
          "base_uri": "https://localhost:8080/",
          "height": 995
        }
      },
      "source": [
        "!pip install tensorflow --upgrade"
      ],
      "execution_count": 7,
      "outputs": [
        {
          "output_type": "stream",
          "text": [
            "Collecting tensorflow\n",
            "\u001b[?25l  Downloading https://files.pythonhosted.org/packages/85/d4/c0cd1057b331bc38b65478302114194bd8e1b9c2bbc06e300935c0e93d90/tensorflow-2.1.0-cp36-cp36m-manylinux2010_x86_64.whl (421.8MB)\n",
            "\u001b[K     |████████████████████████████████| 421.8MB 41kB/s \n",
            "\u001b[?25hRequirement already satisfied, skipping upgrade: gast==0.2.2 in /usr/local/lib/python3.6/dist-packages (from tensorflow) (0.2.2)\n",
            "Requirement already satisfied, skipping upgrade: opt-einsum>=2.3.2 in /usr/local/lib/python3.6/dist-packages (from tensorflow) (3.1.0)\n",
            "Requirement already satisfied, skipping upgrade: wrapt>=1.11.1 in /usr/local/lib/python3.6/dist-packages (from tensorflow) (1.11.2)\n",
            "Requirement already satisfied, skipping upgrade: six>=1.12.0 in /usr/local/lib/python3.6/dist-packages (from tensorflow) (1.12.0)\n",
            "Requirement already satisfied, skipping upgrade: google-pasta>=0.1.6 in /usr/local/lib/python3.6/dist-packages (from tensorflow) (0.1.8)\n",
            "Requirement already satisfied, skipping upgrade: keras-preprocessing>=1.1.0 in /usr/local/lib/python3.6/dist-packages (from tensorflow) (1.1.0)\n",
            "Requirement already satisfied, skipping upgrade: protobuf>=3.8.0 in /usr/local/lib/python3.6/dist-packages (from tensorflow) (3.10.0)\n",
            "Requirement already satisfied, skipping upgrade: termcolor>=1.1.0 in /usr/local/lib/python3.6/dist-packages (from tensorflow) (1.1.0)\n",
            "Requirement already satisfied, skipping upgrade: scipy==1.4.1; python_version >= \"3\" in /usr/local/lib/python3.6/dist-packages (from tensorflow) (1.4.1)\n",
            "Requirement already satisfied, skipping upgrade: astor>=0.6.0 in /usr/local/lib/python3.6/dist-packages (from tensorflow) (0.8.1)\n",
            "Requirement already satisfied, skipping upgrade: wheel>=0.26; python_version >= \"3\" in /usr/local/lib/python3.6/dist-packages (from tensorflow) (0.34.2)\n",
            "Requirement already satisfied, skipping upgrade: keras-applications>=1.0.8 in /usr/local/lib/python3.6/dist-packages (from tensorflow) (1.0.8)\n",
            "Collecting tensorflow-estimator<2.2.0,>=2.1.0rc0\n",
            "\u001b[?25l  Downloading https://files.pythonhosted.org/packages/18/90/b77c328a1304437ab1310b463e533fa7689f4bfc41549593056d812fab8e/tensorflow_estimator-2.1.0-py2.py3-none-any.whl (448kB)\n",
            "\u001b[K     |████████████████████████████████| 450kB 49.0MB/s \n",
            "\u001b[?25hCollecting tensorboard<2.2.0,>=2.1.0\n",
            "\u001b[?25l  Downloading https://files.pythonhosted.org/packages/40/23/53ffe290341cd0855d595b0a2e7485932f473798af173bbe3a584b99bb06/tensorboard-2.1.0-py3-none-any.whl (3.8MB)\n",
            "\u001b[K     |████████████████████████████████| 3.8MB 44.8MB/s \n",
            "\u001b[?25hRequirement already satisfied, skipping upgrade: grpcio>=1.8.6 in /usr/local/lib/python3.6/dist-packages (from tensorflow) (1.27.1)\n",
            "Requirement already satisfied, skipping upgrade: absl-py>=0.7.0 in /usr/local/lib/python3.6/dist-packages (from tensorflow) (0.9.0)\n",
            "Requirement already satisfied, skipping upgrade: numpy<2.0,>=1.16.0 in /usr/local/lib/python3.6/dist-packages (from tensorflow) (1.17.5)\n",
            "Requirement already satisfied, skipping upgrade: setuptools in /usr/local/lib/python3.6/dist-packages (from protobuf>=3.8.0->tensorflow) (45.1.0)\n",
            "Requirement already satisfied, skipping upgrade: h5py in /usr/local/lib/python3.6/dist-packages (from keras-applications>=1.0.8->tensorflow) (2.8.0)\n",
            "Requirement already satisfied, skipping upgrade: werkzeug>=0.11.15 in /usr/local/lib/python3.6/dist-packages (from tensorboard<2.2.0,>=2.1.0->tensorflow) (1.0.0)\n",
            "Requirement already satisfied, skipping upgrade: requests<3,>=2.21.0 in /usr/local/lib/python3.6/dist-packages (from tensorboard<2.2.0,>=2.1.0->tensorflow) (2.21.0)\n",
            "Requirement already satisfied, skipping upgrade: google-auth<2,>=1.6.3 in /usr/local/lib/python3.6/dist-packages (from tensorboard<2.2.0,>=2.1.0->tensorflow) (1.7.2)\n",
            "Requirement already satisfied, skipping upgrade: google-auth-oauthlib<0.5,>=0.4.1 in /usr/local/lib/python3.6/dist-packages (from tensorboard<2.2.0,>=2.1.0->tensorflow) (0.4.1)\n",
            "Requirement already satisfied, skipping upgrade: markdown>=2.6.8 in /usr/local/lib/python3.6/dist-packages (from tensorboard<2.2.0,>=2.1.0->tensorflow) (3.2.1)\n",
            "Requirement already satisfied, skipping upgrade: chardet<3.1.0,>=3.0.2 in /usr/local/lib/python3.6/dist-packages (from requests<3,>=2.21.0->tensorboard<2.2.0,>=2.1.0->tensorflow) (3.0.4)\n",
            "Requirement already satisfied, skipping upgrade: certifi>=2017.4.17 in /usr/local/lib/python3.6/dist-packages (from requests<3,>=2.21.0->tensorboard<2.2.0,>=2.1.0->tensorflow) (2019.11.28)\n",
            "Requirement already satisfied, skipping upgrade: urllib3<1.25,>=1.21.1 in /usr/local/lib/python3.6/dist-packages (from requests<3,>=2.21.0->tensorboard<2.2.0,>=2.1.0->tensorflow) (1.24.3)\n",
            "Requirement already satisfied, skipping upgrade: idna<2.9,>=2.5 in /usr/local/lib/python3.6/dist-packages (from requests<3,>=2.21.0->tensorboard<2.2.0,>=2.1.0->tensorflow) (2.8)\n",
            "Requirement already satisfied, skipping upgrade: cachetools<3.2,>=2.0.0 in /usr/local/lib/python3.6/dist-packages (from google-auth<2,>=1.6.3->tensorboard<2.2.0,>=2.1.0->tensorflow) (3.1.1)\n",
            "Requirement already satisfied, skipping upgrade: rsa<4.1,>=3.1.4 in /usr/local/lib/python3.6/dist-packages (from google-auth<2,>=1.6.3->tensorboard<2.2.0,>=2.1.0->tensorflow) (4.0)\n",
            "Requirement already satisfied, skipping upgrade: pyasn1-modules>=0.2.1 in /usr/local/lib/python3.6/dist-packages (from google-auth<2,>=1.6.3->tensorboard<2.2.0,>=2.1.0->tensorflow) (0.2.8)\n",
            "Requirement already satisfied, skipping upgrade: requests-oauthlib>=0.7.0 in /usr/local/lib/python3.6/dist-packages (from google-auth-oauthlib<0.5,>=0.4.1->tensorboard<2.2.0,>=2.1.0->tensorflow) (1.3.0)\n",
            "Requirement already satisfied, skipping upgrade: pyasn1>=0.1.3 in /usr/local/lib/python3.6/dist-packages (from rsa<4.1,>=3.1.4->google-auth<2,>=1.6.3->tensorboard<2.2.0,>=2.1.0->tensorflow) (0.4.8)\n",
            "Requirement already satisfied, skipping upgrade: oauthlib>=3.0.0 in /usr/local/lib/python3.6/dist-packages (from requests-oauthlib>=0.7.0->google-auth-oauthlib<0.5,>=0.4.1->tensorboard<2.2.0,>=2.1.0->tensorflow) (3.1.0)\n",
            "Installing collected packages: tensorflow-estimator, tensorboard, tensorflow\n",
            "  Found existing installation: tensorflow-estimator 1.15.1\n",
            "    Uninstalling tensorflow-estimator-1.15.1:\n",
            "      Successfully uninstalled tensorflow-estimator-1.15.1\n",
            "  Found existing installation: tensorboard 1.15.0\n",
            "    Uninstalling tensorboard-1.15.0:\n",
            "      Successfully uninstalled tensorboard-1.15.0\n",
            "  Found existing installation: tensorflow 1.15.0\n",
            "    Uninstalling tensorflow-1.15.0:\n",
            "      Successfully uninstalled tensorflow-1.15.0\n",
            "Successfully installed tensorboard-2.1.0 tensorflow-2.1.0 tensorflow-estimator-2.1.0\n"
          ],
          "name": "stdout"
        },
        {
          "output_type": "display_data",
          "data": {
            "application/vnd.colab-display-data+json": {
              "pip_warning": {
                "packages": [
                  "tensorboard",
                  "tensorflow",
                  "tensorflow_core",
                  "tensorflow_estimator"
                ]
              }
            }
          },
          "metadata": {
            "tags": []
          }
        }
      ]
    },
    {
      "cell_type": "code",
      "metadata": {
        "id": "V9QjdvB_IMVt",
        "colab_type": "code",
        "outputId": "e7bae25e-fd01-439d-eb6b-9c13dd9a69c3",
        "colab": {
          "base_uri": "https://localhost:8080/",
          "height": 138
        }
      },
      "source": [
        "pip install tensorflow-probability --upgrade"
      ],
      "execution_count": 0,
      "outputs": [
        {
          "output_type": "stream",
          "text": [
            "Requirement already up-to-date: tensorflow-probability in /usr/local/lib/python3.6/dist-packages (0.9.0)\n",
            "Requirement already satisfied, skipping upgrade: decorator in /usr/local/lib/python3.6/dist-packages (from tensorflow-probability) (4.4.1)\n",
            "Requirement already satisfied, skipping upgrade: cloudpickle>=1.2.2 in /usr/local/lib/python3.6/dist-packages (from tensorflow-probability) (1.2.2)\n",
            "Requirement already satisfied, skipping upgrade: gast>=0.2 in /usr/local/lib/python3.6/dist-packages (from tensorflow-probability) (0.2.2)\n",
            "Requirement already satisfied, skipping upgrade: six>=1.10.0 in /usr/local/lib/python3.6/dist-packages (from tensorflow-probability) (1.12.0)\n",
            "Requirement already satisfied, skipping upgrade: numpy>=1.13.3 in /usr/local/lib/python3.6/dist-packages (from tensorflow-probability) (1.17.5)\n"
          ],
          "name": "stdout"
        }
      ]
    },
    {
      "cell_type": "code",
      "metadata": {
        "id": "Qgd1n3k7zCxE",
        "colab_type": "code",
        "outputId": "738123d9-1834-4188-9901-2e394d0fa098",
        "colab": {
          "resources": {
            "http://localhost:8080/nbextensions/google.colab/files.js": {
              "data": "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",
              "ok": true,
              "headers": [
                [
                  "content-type",
                  "application/javascript"
                ]
              ],
              "status": 200,
              "status_text": ""
            }
          },
          "base_uri": "https://localhost:8080/",
          "height": 74
        }
      },
      "source": [
        "from google.colab import files\n",
        "files.upload()"
      ],
      "execution_count": 4,
      "outputs": [
        {
          "output_type": "display_data",
          "data": {
            "text/html": [
              "\n",
              "     <input type=\"file\" id=\"files-fd375304-dcce-46eb-a6bb-dcaa9512fad9\" name=\"files[]\" multiple disabled />\n",
              "     <output id=\"result-fd375304-dcce-46eb-a6bb-dcaa9512fad9\">\n",
              "      Upload widget is only available when the cell has been executed in the\n",
              "      current browser session. Please rerun this cell to enable.\n",
              "      </output>\n",
              "      <script src=\"/nbextensions/google.colab/files.js\"></script> "
            ],
            "text/plain": [
              "<IPython.core.display.HTML object>"
            ]
          },
          "metadata": {
            "tags": []
          }
        },
        {
          "output_type": "stream",
          "text": [
            "Saving mnist_train.zip to mnist_train.zip\n"
          ],
          "name": "stdout"
        }
      ]
    },
    {
      "cell_type": "code",
      "metadata": {
        "id": "L9AAEvTED5dE",
        "colab_type": "code",
        "outputId": "4d6ab5d3-c89c-4909-8536-44889eb00f23",
        "colab": {
          "base_uri": "https://localhost:8080/",
          "height": 50
        }
      },
      "source": [
        "!unzip mnist_train.zip"
      ],
      "execution_count": 5,
      "outputs": [
        {
          "output_type": "stream",
          "text": [
            "Archive:  mnist_train.zip\n",
            "  inflating: mnist_train.csv         \n"
          ],
          "name": "stdout"
        }
      ]
    },
    {
      "cell_type": "code",
      "metadata": {
        "id": "xk8xtZvMyXz9",
        "colab_type": "code",
        "colab": {}
      },
      "source": [
        "import numpy as np\n",
        "import tensorflow as tf\n",
        "\n",
        "import gpflow\n",
        "from gpflow.utilities import ops, print_summary\n",
        "from gpflow.config import set_default_float, default_float, set_default_summary_fmt\n",
        "from gpflow.ci_utils import ci_niter\n",
        "\n",
        "set_default_float(np.float64)\n",
        "set_default_summary_fmt(\"notebook\")\n",
        "\n",
        "from matplotlib import pyplot as plt\n",
        "plt.style.use('ggplot')\n",
        "%matplotlib inline"
      ],
      "execution_count": 0,
      "outputs": []
    },
    {
      "cell_type": "code",
      "metadata": {
        "id": "a5IRWUIyKyqT",
        "colab_type": "code",
        "outputId": "f6b8fa82-38d1-4157-dce7-3a699f03785f",
        "colab": {
          "base_uri": "https://localhost:8080/",
          "height": 34
        }
      },
      "source": [
        "%cd GPflow/"
      ],
      "execution_count": 2,
      "outputs": [
        {
          "output_type": "stream",
          "text": [
            "/content/GPflow\n"
          ],
          "name": "stdout"
        }
      ]
    },
    {
      "cell_type": "code",
      "metadata": {
        "id": "JAPbhoZdyXz_",
        "colab_type": "code",
        "colab": {}
      },
      "source": [
        "import csv\n",
        "data_path = './mnist_train.csv'\n",
        "with open(data_path, 'r') as f:\n",
        "    reader = csv.reader(f, delimiter=',')\n",
        "    data = np.array(list(reader)).astype(float)"
      ],
      "execution_count": 0,
      "outputs": []
    },
    {
      "cell_type": "code",
      "metadata": {
        "id": "4u_pNPGDK7ib",
        "colab_type": "code",
        "outputId": "3d8d0ec7-0c20-4c89-c968-dcf55016ff9a",
        "colab": {
          "base_uri": "https://localhost:8080/",
          "height": 34
        }
      },
      "source": [
        "data.shape"
      ],
      "execution_count": 4,
      "outputs": [
        {
          "output_type": "execute_result",
          "data": {
            "text/plain": [
              "(60000, 785)"
            ]
          },
          "metadata": {
            "tags": []
          },
          "execution_count": 4
        }
      ]
    },
    {
      "cell_type": "code",
      "metadata": {
        "id": "V3Vrp4oayX0D",
        "colab_type": "code",
        "colab": {}
      },
      "source": [
        "training_per_class = 700\n",
        "training_set_1 = data[data[:,0] == 1.]\n",
        "training_set_5 = data[data[:,0] == 5.]\n",
        "training_set_9 = data[data[:,0] == 9.]\n",
        "\n",
        "index_1 = np.random.choice(training_set_1.shape[0],training_per_class,replace=False)\n",
        "index_5 = np.random.choice(training_set_5.shape[0],training_per_class,replace=False)\n",
        "index_9 = np.random.choice(training_set_9.shape[0],training_per_class,replace=False)\n",
        "\n",
        "training_data_1 = training_set_1[index_1][:,1:]/255\n",
        "training_data_5 = training_set_5[index_5][:,1:]/255\n",
        "training_data_9 = training_set_9[index_9][:,1:]/255\n",
        "\n",
        "labels_data_1 = training_set_1[index_1][:,0]\n",
        "labels_data_5 = training_set_5[index_5][:,0]\n",
        "labels_data_9 = training_set_9[index_9][:,0]\n"
      ],
      "execution_count": 0,
      "outputs": []
    },
    {
      "cell_type": "code",
      "metadata": {
        "id": "ahEr9NDdyX0F",
        "colab_type": "code",
        "colab": {}
      },
      "source": [
        "training_data = np.concatenate((training_data_1, training_data_5, training_data_9), axis = 0)\n",
        "labels_data = np.concatenate((labels_data_1, labels_data_5, labels_data_9), axis = 0)"
      ],
      "execution_count": 0,
      "outputs": []
    },
    {
      "cell_type": "code",
      "metadata": {
        "id": "SA8QssooyX0I",
        "colab_type": "code",
        "colab": {}
      },
      "source": [
        "Y = tf.convert_to_tensor(training_data, dtype=default_float())"
      ],
      "execution_count": 0,
      "outputs": []
    },
    {
      "cell_type": "code",
      "metadata": {
        "id": "gs5FMdtQyX0K",
        "colab_type": "code",
        "colab": {}
      },
      "source": [
        "labels = tf.convert_to_tensor(labels_data)"
      ],
      "execution_count": 0,
      "outputs": []
    },
    {
      "cell_type": "code",
      "metadata": {
        "id": "cTnTuGJAyX0M",
        "colab_type": "code",
        "outputId": "48fad042-9fcf-4b99-f4b2-30d2d86afd1a",
        "colab": {
          "base_uri": "https://localhost:8080/",
          "height": 34
        }
      },
      "source": [
        "print('Number of points: {} and Number of dimensions: {}'.format(Y.shape[0], Y.shape[1]))"
      ],
      "execution_count": 9,
      "outputs": [
        {
          "output_type": "stream",
          "text": [
            "Number of points: 2100 and Number of dimensions: 784\n"
          ],
          "name": "stdout"
        }
      ]
    },
    {
      "cell_type": "code",
      "metadata": {
        "id": "QdbDgdrKyX0O",
        "colab_type": "code",
        "colab": {}
      },
      "source": [
        "latent_dim = 2  # number of latent dimensions\n",
        "num_inducing = 25  # number of inducing pts\n",
        "num_data = Y.shape[0]  # number of data points"
      ],
      "execution_count": 0,
      "outputs": []
    },
    {
      "cell_type": "code",
      "metadata": {
        "id": "sLtQoEX4yX0Q",
        "colab_type": "code",
        "colab": {}
      },
      "source": [
        "x_mean_init = tf.convert_to_tensor(ops.pca_reduce(Y, latent_dim), dtype=default_float())\n",
        "x_var_init = tf.convert_to_tensor(np.ones((num_data, latent_dim)), dtype=default_float())"
      ],
      "execution_count": 0,
      "outputs": []
    },
    {
      "cell_type": "code",
      "metadata": {
        "id": "yuSqj-WtyX0T",
        "colab_type": "code",
        "colab": {}
      },
      "source": [
        "inducing_variable = tf.convert_to_tensor(np.random.permutation(x_mean_init.numpy())[:num_inducing], dtype=default_float())"
      ],
      "execution_count": 0,
      "outputs": []
    },
    {
      "cell_type": "code",
      "metadata": {
        "id": "xLKPhlOByX0V",
        "colab_type": "code",
        "colab": {}
      },
      "source": [
        "lengthscale = tf.convert_to_tensor([1.0] * latent_dim, dtype=default_float())\n",
        "kernel = gpflow.kernels.RBF(lengthscale=lengthscale)"
      ],
      "execution_count": 0,
      "outputs": []
    },
    {
      "cell_type": "code",
      "metadata": {
        "id": "WxM7ToaCyX0Y",
        "colab_type": "code",
        "colab": {}
      },
      "source": [
        "gplvm = gpflow.models.BayesianGPLVM(Y,\n",
        "            x_data_mean=x_mean_init,\n",
        "            x_data_var=x_var_init,\n",
        "            kernel=kernel,\n",
        "            inducing_variable=inducing_variable)"
      ],
      "execution_count": 0,
      "outputs": []
    },
    {
      "cell_type": "code",
      "metadata": {
        "id": "hZbo8UedyX0a",
        "colab_type": "code",
        "outputId": "a6986079-62b9-482d-fc8b-e7e68647fec9",
        "colab": {
          "base_uri": "https://localhost:8080/",
          "height": 34
        }
      },
      "source": [
        "gplvm.likelihood.variance.assign(0.01)"
      ],
      "execution_count": 15,
      "outputs": [
        {
          "output_type": "execute_result",
          "data": {
            "text/plain": [
              "<tf.Variable 'UnreadVariable' shape=() dtype=float64, numpy=-4.600266525158267>"
            ]
          },
          "metadata": {
            "tags": []
          },
          "execution_count": 15
        }
      ]
    },
    {
      "cell_type": "code",
      "metadata": {
        "id": "PdmLWDLeyX0c",
        "colab_type": "code",
        "colab": {}
      },
      "source": [
        "def check_function(step, variables, values):\n",
        "    print(\"Here are the current state of the optimizer :\" + str(step))"
      ],
      "execution_count": 0,
      "outputs": []
    },
    {
      "cell_type": "code",
      "metadata": {
        "id": "QUBtE2puyX0e",
        "colab_type": "code",
        "outputId": "29f02a13-729e-4068-a6d6-3a5b00dddeea",
        "colab": {
          "base_uri": "https://localhost:8080/",
          "height": 1000
        }
      },
      "source": [
        "opt = gpflow.optimizers.Scipy()\n",
        "maxiter = ci_niter(200)\n",
        "\n",
        "@tf.function(autograph=False)\n",
        "def optimization_step():\n",
        "    return - gplvm.log_marginal_likelihood()\n",
        "\n",
        "_ = opt.minimize(optimization_step, method=\"bfgs\", variables=gplvm.trainable_variables,step_callback = check_function, options=dict(maxiter=maxiter))"
      ],
      "execution_count": 17,
      "outputs": [
        {
          "output_type": "stream",
          "text": [
            "WARNING:tensorflow:From /usr/local/lib/python3.6/dist-packages/tensorflow_core/python/ops/math_grad.py:303: setdiff1d (from tensorflow.python.ops.array_ops) is deprecated and will be removed after 2018-11-30.\n",
            "Instructions for updating:\n",
            "This op will be removed after the deprecation date. Please switch to tf.sets.difference().\n",
            "Here are the current state of the optimizer :0\n",
            "Here are the current state of the optimizer :1\n",
            "Here are the current state of the optimizer :2\n",
            "Here are the current state of the optimizer :3\n",
            "Here are the current state of the optimizer :4\n",
            "Here are the current state of the optimizer :5\n",
            "Here are the current state of the optimizer :6\n",
            "Here are the current state of the optimizer :7\n",
            "Here are the current state of the optimizer :8\n",
            "Here are the current state of the optimizer :9\n",
            "Here are the current state of the optimizer :10\n",
            "Here are the current state of the optimizer :11\n",
            "Here are the current state of the optimizer :12\n",
            "Here are the current state of the optimizer :13\n",
            "Here are the current state of the optimizer :14\n",
            "Here are the current state of the optimizer :15\n",
            "Here are the current state of the optimizer :16\n",
            "Here are the current state of the optimizer :17\n",
            "Here are the current state of the optimizer :18\n",
            "Here are the current state of the optimizer :19\n",
            "Here are the current state of the optimizer :20\n",
            "Here are the current state of the optimizer :21\n",
            "Here are the current state of the optimizer :22\n",
            "Here are the current state of the optimizer :23\n",
            "Here are the current state of the optimizer :24\n",
            "Here are the current state of the optimizer :25\n",
            "Here are the current state of the optimizer :26\n",
            "Here are the current state of the optimizer :27\n",
            "Here are the current state of the optimizer :28\n",
            "Here are the current state of the optimizer :29\n",
            "Here are the current state of the optimizer :30\n",
            "Here are the current state of the optimizer :31\n",
            "Here are the current state of the optimizer :32\n",
            "Here are the current state of the optimizer :33\n",
            "Here are the current state of the optimizer :34\n",
            "Here are the current state of the optimizer :35\n",
            "Here are the current state of the optimizer :36\n",
            "Here are the current state of the optimizer :37\n",
            "Here are the current state of the optimizer :38\n",
            "Here are the current state of the optimizer :39\n",
            "Here are the current state of the optimizer :40\n",
            "Here are the current state of the optimizer :41\n",
            "Here are the current state of the optimizer :42\n",
            "Here are the current state of the optimizer :43\n",
            "Here are the current state of the optimizer :44\n",
            "Here are the current state of the optimizer :45\n",
            "Here are the current state of the optimizer :46\n",
            "Here are the current state of the optimizer :47\n",
            "Here are the current state of the optimizer :48\n",
            "Here are the current state of the optimizer :49\n",
            "Here are the current state of the optimizer :50\n",
            "Here are the current state of the optimizer :51\n",
            "Here are the current state of the optimizer :52\n",
            "Here are the current state of the optimizer :53\n",
            "Here are the current state of the optimizer :54\n",
            "Here are the current state of the optimizer :55\n",
            "Here are the current state of the optimizer :56\n",
            "Here are the current state of the optimizer :57\n",
            "Here are the current state of the optimizer :58\n",
            "Here are the current state of the optimizer :59\n",
            "Here are the current state of the optimizer :60\n",
            "Here are the current state of the optimizer :61\n",
            "Here are the current state of the optimizer :62\n",
            "Here are the current state of the optimizer :63\n",
            "Here are the current state of the optimizer :64\n",
            "Here are the current state of the optimizer :65\n",
            "Here are the current state of the optimizer :66\n",
            "Here are the current state of the optimizer :67\n",
            "Here are the current state of the optimizer :68\n",
            "Here are the current state of the optimizer :69\n",
            "Here are the current state of the optimizer :70\n",
            "Here are the current state of the optimizer :71\n",
            "Here are the current state of the optimizer :72\n",
            "Here are the current state of the optimizer :73\n",
            "Here are the current state of the optimizer :74\n",
            "Here are the current state of the optimizer :75\n",
            "Here are the current state of the optimizer :76\n",
            "Here are the current state of the optimizer :77\n",
            "Here are the current state of the optimizer :78\n",
            "Here are the current state of the optimizer :79\n",
            "Here are the current state of the optimizer :80\n",
            "Here are the current state of the optimizer :81\n",
            "Here are the current state of the optimizer :82\n",
            "Here are the current state of the optimizer :83\n",
            "Here are the current state of the optimizer :84\n",
            "Here are the current state of the optimizer :85\n",
            "Here are the current state of the optimizer :86\n",
            "Here are the current state of the optimizer :87\n",
            "Here are the current state of the optimizer :88\n",
            "Here are the current state of the optimizer :89\n",
            "Here are the current state of the optimizer :90\n",
            "Here are the current state of the optimizer :91\n",
            "Here are the current state of the optimizer :92\n",
            "Here are the current state of the optimizer :93\n",
            "Here are the current state of the optimizer :94\n",
            "Here are the current state of the optimizer :95\n",
            "Here are the current state of the optimizer :96\n",
            "Here are the current state of the optimizer :97\n",
            "Here are the current state of the optimizer :98\n",
            "Here are the current state of the optimizer :99\n",
            "Here are the current state of the optimizer :100\n",
            "Here are the current state of the optimizer :101\n",
            "Here are the current state of the optimizer :102\n",
            "Here are the current state of the optimizer :103\n",
            "Here are the current state of the optimizer :104\n",
            "Here are the current state of the optimizer :105\n",
            "Here are the current state of the optimizer :106\n",
            "Here are the current state of the optimizer :107\n",
            "Here are the current state of the optimizer :108\n",
            "Here are the current state of the optimizer :109\n",
            "Here are the current state of the optimizer :110\n",
            "Here are the current state of the optimizer :111\n",
            "Here are the current state of the optimizer :112\n",
            "Here are the current state of the optimizer :113\n",
            "Here are the current state of the optimizer :114\n",
            "Here are the current state of the optimizer :115\n",
            "Here are the current state of the optimizer :116\n",
            "Here are the current state of the optimizer :117\n",
            "Here are the current state of the optimizer :118\n",
            "Here are the current state of the optimizer :119\n",
            "Here are the current state of the optimizer :120\n",
            "Here are the current state of the optimizer :121\n",
            "Here are the current state of the optimizer :122\n",
            "Here are the current state of the optimizer :123\n",
            "Here are the current state of the optimizer :124\n",
            "Here are the current state of the optimizer :125\n",
            "Here are the current state of the optimizer :126\n",
            "Here are the current state of the optimizer :127\n",
            "Here are the current state of the optimizer :128\n",
            "Here are the current state of the optimizer :129\n",
            "Here are the current state of the optimizer :130\n",
            "Here are the current state of the optimizer :131\n",
            "Here are the current state of the optimizer :132\n",
            "Here are the current state of the optimizer :133\n",
            "Here are the current state of the optimizer :134\n",
            "Here are the current state of the optimizer :135\n",
            "Here are the current state of the optimizer :136\n",
            "Here are the current state of the optimizer :137\n",
            "Here are the current state of the optimizer :138\n",
            "Here are the current state of the optimizer :139\n",
            "Here are the current state of the optimizer :140\n",
            "Here are the current state of the optimizer :141\n",
            "Here are the current state of the optimizer :142\n",
            "Here are the current state of the optimizer :143\n",
            "Here are the current state of the optimizer :144\n",
            "Here are the current state of the optimizer :145\n",
            "Here are the current state of the optimizer :146\n",
            "Here are the current state of the optimizer :147\n",
            "Here are the current state of the optimizer :148\n",
            "Here are the current state of the optimizer :149\n",
            "Here are the current state of the optimizer :150\n",
            "Here are the current state of the optimizer :151\n",
            "Here are the current state of the optimizer :152\n",
            "Here are the current state of the optimizer :153\n",
            "Here are the current state of the optimizer :154\n",
            "Here are the current state of the optimizer :155\n",
            "Here are the current state of the optimizer :156\n",
            "Here are the current state of the optimizer :157\n",
            "Here are the current state of the optimizer :158\n",
            "Here are the current state of the optimizer :159\n",
            "Here are the current state of the optimizer :160\n",
            "Here are the current state of the optimizer :161\n",
            "Here are the current state of the optimizer :162\n",
            "Here are the current state of the optimizer :163\n",
            "Here are the current state of the optimizer :164\n",
            "Here are the current state of the optimizer :165\n",
            "Here are the current state of the optimizer :166\n",
            "Here are the current state of the optimizer :167\n",
            "Here are the current state of the optimizer :168\n",
            "Here are the current state of the optimizer :169\n",
            "Here are the current state of the optimizer :170\n",
            "Here are the current state of the optimizer :171\n",
            "Here are the current state of the optimizer :172\n",
            "Here are the current state of the optimizer :173\n",
            "Here are the current state of the optimizer :174\n",
            "Here are the current state of the optimizer :175\n",
            "Here are the current state of the optimizer :176\n",
            "Here are the current state of the optimizer :177\n",
            "Here are the current state of the optimizer :178\n",
            "Here are the current state of the optimizer :179\n",
            "Here are the current state of the optimizer :180\n",
            "Here are the current state of the optimizer :181\n",
            "Here are the current state of the optimizer :182\n",
            "Here are the current state of the optimizer :183\n",
            "Here are the current state of the optimizer :184\n",
            "Here are the current state of the optimizer :185\n",
            "Here are the current state of the optimizer :186\n",
            "Here are the current state of the optimizer :187\n",
            "Here are the current state of the optimizer :188\n",
            "Here are the current state of the optimizer :189\n",
            "Here are the current state of the optimizer :190\n",
            "Here are the current state of the optimizer :191\n",
            "Here are the current state of the optimizer :192\n",
            "Here are the current state of the optimizer :193\n",
            "Here are the current state of the optimizer :194\n",
            "Here are the current state of the optimizer :195\n",
            "Here are the current state of the optimizer :196\n",
            "Here are the current state of the optimizer :197\n",
            "Here are the current state of the optimizer :198\n",
            "Here are the current state of the optimizer :199\n"
          ],
          "name": "stdout"
        }
      ]
    },
    {
      "cell_type": "code",
      "metadata": {
        "id": "L9l8BW-9yX0g",
        "colab_type": "code",
        "outputId": "cafd3461-06ae-4dae-dde9-5e639e9c2575",
        "colab": {
          "base_uri": "https://localhost:8080/",
          "height": 158
        }
      },
      "source": [
        "print_summary(gplvm)"
      ],
      "execution_count": 18,
      "outputs": [
        {
          "output_type": "display_data",
          "data": {
            "text/html": [
              "<table>\n",
              "<thead>\n",
              "<tr><th>name                             </th><th>class    </th><th>transform       </th><th>prior  </th><th>trainable  </th><th>shape    </th><th>dtype  </th><th>value                                </th></tr>\n",
              "</thead>\n",
              "<tbody>\n",
              "<tr><td>BayesianGPLVM.kernel.variance    </td><td>Parameter</td><td>Softplus        </td><td>       </td><td>True       </td><td>()       </td><td>float64</td><td>0.7016209759518928                   </td></tr>\n",
              "<tr><td>BayesianGPLVM.kernel.lengthscale </td><td>Parameter</td><td>Softplus        </td><td>       </td><td>True       </td><td>(2,)     </td><td>float64</td><td>[7.53393632 1.53477003]              </td></tr>\n",
              "<tr><td>BayesianGPLVM.likelihood.variance</td><td>Parameter</td><td>Softplus + Shift</td><td>       </td><td>True       </td><td>()       </td><td>float64</td><td>0.02644678296719342                  </td></tr>\n",
              "<tr><td>BayesianGPLVM.x_data_mean        </td><td>Parameter</td><td>                </td><td>       </td><td>True       </td><td>(2100, 2)</td><td>float64</td><td>[[-0.09401364, 2.83535299...         </td></tr>\n",
              "<tr><td>BayesianGPLVM.x_data_var         </td><td>Parameter</td><td>Softplus        </td><td>       </td><td>True       </td><td>(2100, 2)</td><td>float64</td><td>[[3.62202235e-02, 1.36901533e-04...  </td></tr>\n",
              "<tr><td>BayesianGPLVM.inducing_variable.Z</td><td>Parameter</td><td>                </td><td>       </td><td>True       </td><td>(25, 2)  </td><td>float64</td><td>[[-2.33258752e+00, -2.99772930e+00...</td></tr>\n",
              "</tbody>\n",
              "</table>"
            ],
            "text/plain": [
              "<IPython.core.display.HTML object>"
            ]
          },
          "metadata": {
            "tags": []
          }
        }
      ]
    },
    {
      "cell_type": "code",
      "metadata": {
        "id": "0nXU3bhjyX0i",
        "colab_type": "code",
        "outputId": "8e1ee52e-662b-41fa-d38e-330195de089c",
        "colab": {
          "base_uri": "https://localhost:8080/",
          "height": 391
        }
      },
      "source": [
        "gplvm_x_mean = gplvm.x_data_mean.numpy()\n",
        "\n",
        "f, ax = plt.subplots(1, 1, figsize=(10, 6))\n",
        "\n",
        "for i in np.unique(labels):\n",
        "    ax.scatter(gplvm_x_mean[labels==i, 0], gplvm_x_mean[labels==i, 1], label=i)\n",
        "    ax.set_title('Bayesian GPLVM')\n",
        "plt.savefig(\"Bayesian_GPLVM2.pdf\")"
      ],
      "execution_count": 19,
      "outputs": [
        {
          "output_type": "display_data",
          "data": {
            "image/png": "[encoded data removed]",
            "text/plain": [
              "<Figure size 720x432 with 1 Axes>"
            ]
          },
          "metadata": {
            "tags": []
          }
        }
      ]
    },
    {
      "cell_type": "code",
      "metadata": {
        "id": "d025mlvYyX0k",
        "colab_type": "code",
        "outputId": "eea9dcf0-e3cf-4fa9-8ab7-1f8628f3e353",
        "colab": {
          "base_uri": "https://localhost:8080/",
          "height": 265
        }
      },
      "source": [
        "for i in range(-8,6):\n",
        "  plt.imshow(gplvm.predict_f(tf.constant([[i,3.]], dtype = 'float64'))[0].numpy().reshape((28,28)))\n",
        "  plt.savefig(\"./Pictures/FigureLine3\" + str(i) + \".png\")"
      ],
      "execution_count": 55,
      "outputs": [
        {
          "output_type": "display_data",
          "data": {
            "image/png": "[encoded data removed]",
            "text/plain": [
              "<Figure size 432x288 with 1 Axes>"
            ]
          },
          "metadata": {
            "tags": []
          }
        }
      ]
    },
    {
      "cell_type": "code",
      "metadata": {
        "id": "-RNFbI6tifXl",
        "colab_type": "code",
        "colab": {
          "base_uri": "https://localhost:8080/",
          "height": 282
        },
        "outputId": "f98453fb-8a06-4438-cb5e-e299ea0a192c"
      },
      "source": [
        "plt.imshow(gplvm.predict_f(tf.constant([[-6.,2.6]], dtype = 'float64'))[0].numpy().reshape((28,28)))"
      ],
      "execution_count": 64,
      "outputs": [
        {
          "output_type": "execute_result",
          "data": {
            "text/plain": [
              "<matplotlib.image.AxesImage at 0x7f0c36e9deb8>"
            ]
          },
          "metadata": {
            "tags": []
          },
          "execution_count": 64
        },
        {
          "output_type": "display_data",
          "data": {
            "image/png": "[encoded data removed]",
            "text/plain": [
              "<Figure size 432x288 with 1 Axes>"
            ]
          },
          "metadata": {
            "tags": []
          }
        }
      ]
    },
    {
      "cell_type": "code",
      "metadata": {
        "id": "B3k91XqSit36",
        "colab_type": "code",
        "colab": {
          "base_uri": "https://localhost:8080/",
          "height": 1000
        },
        "outputId": "0ecb1103-04ae-46d9-96e6-c394d4dd745b"
      },
      "source": [
        "gplvm.predict_f(tf.constant([[-6,2.6]], dtype = 'float64'))[0].numpy().reshape((28,28))"
      ],
      "execution_count": 65,
      "outputs": [
        {
          "output_type": "execute_result",
          "data": {
            "text/plain": [
              "array([[ 0.00000000e+00,  0.00000000e+00,  0.00000000e+00,\n",
              "         0.00000000e+00,  0.00000000e+00,  0.00000000e+00,\n",
              "         0.00000000e+00,  0.00000000e+00,  0.00000000e+00,\n",
              "         0.00000000e+00,  0.00000000e+00,  0.00000000e+00,\n",
              "         0.00000000e+00,  0.00000000e+00,  0.00000000e+00,\n",
              "         0.00000000e+00,  0.00000000e+00,  0.00000000e+00,\n",
              "         0.00000000e+00,  0.00000000e+00,  0.00000000e+00,\n",
              "         0.00000000e+00,  0.00000000e+00,  0.00000000e+00,\n",
              "         0.00000000e+00,  0.00000000e+00,  0.00000000e+00,\n",
              "         0.00000000e+00],\n",
              "       [ 0.00000000e+00,  0.00000000e+00,  0.00000000e+00,\n",
              "         0.00000000e+00,  0.00000000e+00,  0.00000000e+00,\n",
              "         0.00000000e+00,  0.00000000e+00,  0.00000000e+00,\n",
              "         0.00000000e+00,  0.00000000e+00,  0.00000000e+00,\n",
              "         0.00000000e+00,  0.00000000e+00,  0.00000000e+00,\n",
              "         0.00000000e+00,  0.00000000e+00,  0.00000000e+00,\n",
              "         0.00000000e+00,  0.00000000e+00,  0.00000000e+00,\n",
              "         0.00000000e+00,  0.00000000e+00,  0.00000000e+00,\n",
              "         0.00000000e+00,  0.00000000e+00,  0.00000000e+00,\n",
              "         0.00000000e+00],\n",
              "       [ 0.00000000e+00,  0.00000000e+00,  0.00000000e+00,\n",
              "         0.00000000e+00,  0.00000000e+00,  0.00000000e+00,\n",
              "         0.00000000e+00,  0.00000000e+00,  0.00000000e+00,\n",
              "         0.00000000e+00,  0.00000000e+00,  0.00000000e+00,\n",
              "         0.00000000e+00,  0.00000000e+00,  2.84796802e-05,\n",
              "        -1.52106473e-03,  5.49112084e-04,  5.75974866e-03,\n",
              "         8.40140786e-03,  7.71817893e-03,  8.90562149e-03,\n",
              "         6.04616327e-03,  3.39672094e-03,  2.07199977e-03,\n",
              "         0.00000000e+00,  0.00000000e+00,  0.00000000e+00,\n",
              "         0.00000000e+00],\n",
              "       [ 0.00000000e+00,  0.00000000e+00, -4.41505765e-03,\n",
              "        -1.20847216e-03, -2.28038532e-03,  0.00000000e+00,\n",
              "         0.00000000e+00,  0.00000000e+00,  0.00000000e+00,\n",
              "         0.00000000e+00,  6.80622248e-03,  2.26205676e-03,\n",
              "         2.69548817e-03,  1.27222061e-02,  1.61661193e-02,\n",
              "        -4.24079266e-03, -2.29381344e-02, -5.57692248e-02,\n",
              "        -1.12348350e-02,  1.85035096e-02, -1.47568844e-02,\n",
              "        -2.93905536e-02, -1.54156509e-02, -1.78419901e-02,\n",
              "        -3.01675677e-03,  0.00000000e+00,  0.00000000e+00,\n",
              "         0.00000000e+00],\n",
              "       [ 0.00000000e+00,  0.00000000e+00, -1.51373405e-02,\n",
              "        -3.95443362e-03,  0.00000000e+00,  0.00000000e+00,\n",
              "        -1.33983367e-04, -3.69366737e-04,  1.44396116e-02,\n",
              "         3.70685259e-02,  7.82576212e-02,  7.50003971e-02,\n",
              "         1.57774990e-01,  1.92261255e-01, -5.25203643e-02,\n",
              "        -8.24700348e-01, -1.07527900e+00, -5.38445621e-01,\n",
              "         2.75740671e-01,  7.69017241e-01,  6.99994939e-01,\n",
              "         4.33764510e-01,  9.32617747e-02, -4.68923808e-02,\n",
              "        -6.39457809e-02, -1.68889262e-02, -1.25283174e-03,\n",
              "         0.00000000e+00],\n",
              "       [ 0.00000000e+00,  0.00000000e+00, -2.10240840e-03,\n",
              "        -2.68803646e-03, -4.35130657e-03, -1.17614024e-02,\n",
              "        -2.79333071e-02, -3.98903064e-02, -2.70445106e-02,\n",
              "         1.78440634e-02,  1.09101794e-01,  2.11011584e-01,\n",
              "         3.47095054e-01,  3.97994354e-01, -1.54987134e-01,\n",
              "        -1.38492043e+00, -1.94730133e+00, -1.13840912e+00,\n",
              "         5.30187103e-01,  1.32998163e+00,  1.21130317e+00,\n",
              "         5.75013804e-01,  1.07976869e-01, -1.01495578e-01,\n",
              "        -7.45366517e-02, -5.60322359e-02, -4.03928321e-03,\n",
              "         0.00000000e+00],\n",
              "       [ 0.00000000e+00,  0.00000000e+00,  0.00000000e+00,\n",
              "         0.00000000e+00, -1.53123321e-02, -2.37821054e-02,\n",
              "        -7.01248721e-02, -1.07450061e-01, -9.11774781e-02,\n",
              "        -3.91625799e-02,  9.45740567e-02,  1.88079355e-01,\n",
              "         2.38122002e-01,  1.14441626e-01, -5.51880568e-01,\n",
              "        -1.97067905e+00, -2.53579938e+00, -1.35331502e+00,\n",
              "         5.11838120e-01,  1.28022355e+00,  1.08058870e+00,\n",
              "         4.59669539e-01, -5.22620367e-02, -2.02723780e-01,\n",
              "        -8.10438746e-02, -4.60541711e-02,  7.52573664e-03,\n",
              "         2.48958897e-04],\n",
              "       [ 0.00000000e+00,  0.00000000e+00,  6.02322766e-03,\n",
              "        -5.67748026e-03, -1.04562855e-02, -4.25478396e-02,\n",
              "        -8.03001747e-02, -1.78258527e-01, -1.48771580e-01,\n",
              "        -3.90036291e-02,  6.64120973e-02,  1.59542018e-01,\n",
              "         9.44467833e-03, -3.74125300e-01, -1.20449468e+00,\n",
              "        -2.49873372e+00, -2.61577752e+00, -9.29078625e-01,\n",
              "         6.72572087e-01,  1.08270243e+00,  7.91840075e-01,\n",
              "         2.86674587e-01, -5.49576613e-02, -1.03965732e-01,\n",
              "         3.61022183e-02,  3.13670265e-02,  2.58638047e-02,\n",
              "         2.64381129e-05],\n",
              "       [ 0.00000000e+00,  0.00000000e+00,  1.42215097e-03,\n",
              "         0.00000000e+00, -2.23664864e-03, -4.83897666e-02,\n",
              "        -1.06272871e-01, -2.07441887e-01, -1.34355767e-01,\n",
              "         1.91656163e-02,  1.66718553e-01,  2.34881114e-01,\n",
              "        -5.63626643e-02, -6.53157799e-01, -1.59538979e+00,\n",
              "        -2.52691438e+00, -1.94132656e+00, -5.85252976e-02,\n",
              "         1.33478270e+00,  1.21155836e+00,  6.55446272e-01,\n",
              "         2.55147822e-01,  7.69823329e-02,  8.09865638e-02,\n",
              "         1.53699248e-01,  1.05932317e-01,  1.44258210e-02,\n",
              "         0.00000000e+00],\n",
              "       [ 0.00000000e+00,  0.00000000e+00,  0.00000000e+00,\n",
              "         3.69176742e-03, -4.99657927e-03, -1.97101346e-02,\n",
              "        -7.61737990e-02, -1.56508783e-01, -1.10857091e-01,\n",
              "         1.03434831e-01,  3.26879415e-01,  2.48774436e-01,\n",
              "        -3.00573434e-01, -9.62129765e-01, -1.69663317e+00,\n",
              "        -1.77133717e+00, -8.25077828e-01,  7.91729455e-01,\n",
              "         1.71306139e+00,  1.26013886e+00,  6.62550304e-01,\n",
              "         3.25609198e-01,  2.09009106e-01,  2.05071561e-01,\n",
              "         1.80772906e-01,  1.12746455e-01,  1.25595752e-02,\n",
              "        -2.64383227e-03],\n",
              "       [ 0.00000000e+00,  0.00000000e+00,  0.00000000e+00,\n",
              "         1.42686538e-03,  6.86664290e-03,  1.25978875e-02,\n",
              "        -5.56031255e-02, -1.53956319e-01, -9.46890771e-02,\n",
              "         1.99895571e-01,  3.11620945e-01,  3.12065359e-02,\n",
              "        -5.91442732e-01, -1.22815949e+00, -1.40077885e+00,\n",
              "        -6.26279139e-01, -1.77245814e-02,  1.21484115e+00,\n",
              "         1.42948978e+00,  8.53093597e-01,  3.86427287e-01,\n",
              "         2.13030078e-01,  9.31791653e-02,  6.48775963e-02,\n",
              "         6.38933463e-02,  3.76954667e-02,  4.76220625e-03,\n",
              "         0.00000000e+00],\n",
              "       [ 0.00000000e+00,  0.00000000e+00,  0.00000000e+00,\n",
              "         3.02691527e-03,  2.17741478e-02,  4.08189383e-02,\n",
              "        -6.26485408e-02, -1.86841819e-01, -1.17668328e-01,\n",
              "         1.62339496e-01,  9.24905487e-02, -2.12153092e-01,\n",
              "        -7.74676240e-01, -1.37868977e+00, -8.19963351e-01,\n",
              "         9.71103401e-03,  4.75121138e-02,  1.08426780e+00,\n",
              "         8.45542229e-01,  3.49064885e-01,  1.37639532e-01,\n",
              "         5.14450140e-02, -1.56363085e-02, -9.47136314e-03,\n",
              "        -2.82196176e-03,  9.48582986e-03, -2.14060308e-03,\n",
              "         0.00000000e+00],\n",
              "       [ 0.00000000e+00,  0.00000000e+00,  0.00000000e+00,\n",
              "         6.86182646e-03,  3.84907606e-02,  3.19636502e-02,\n",
              "        -4.01811278e-02, -2.16220973e-01, -1.84666656e-01,\n",
              "        -2.37612245e-02, -1.59149084e-01, -4.22858715e-01,\n",
              "        -1.07230152e+00, -1.37173023e+00, -1.42641598e-01,\n",
              "         9.23460242e-02, -1.72696292e-01,  4.25686027e-01,\n",
              "         1.76716336e-01, -3.35143079e-02, -5.40510200e-02,\n",
              "        -3.38514999e-02, -3.72569317e-02, -1.56192104e-02,\n",
              "         2.49964408e-03,  8.23367170e-04,  7.55135906e-04,\n",
              "         0.00000000e+00],\n",
              "       [ 0.00000000e+00,  0.00000000e+00,  0.00000000e+00,\n",
              "         7.40207224e-03,  3.63097757e-02,  2.41695574e-02,\n",
              "        -4.88327683e-02, -1.91403081e-01, -1.79275513e-01,\n",
              "        -8.08471899e-02, -1.62489612e-01, -4.17193461e-01,\n",
              "        -1.11222915e+00, -6.95313591e-01,  4.90513045e-01,\n",
              "         7.78566021e-02, -5.01153329e-01, -1.75586472e-01,\n",
              "        -1.20899012e-01, -8.48286607e-02, -1.47642057e-01,\n",
              "        -1.54350486e-01, -7.81903753e-02, -2.86701260e-02,\n",
              "        -3.39930348e-04,  9.72032751e-04,  1.51027181e-04,\n",
              "         0.00000000e+00],\n",
              "       [ 0.00000000e+00,  0.00000000e+00,  1.32484361e-04,\n",
              "         7.78174738e-03,  2.79873944e-02,  1.89821251e-02,\n",
              "        -3.69762722e-02, -1.26629552e-01, -1.05936396e-01,\n",
              "         2.92942529e-03, -2.02124986e-02, -4.88509926e-02,\n",
              "        -4.41868855e-01,  3.19450153e-01,  9.38623828e-01,\n",
              "         4.62092454e-02, -9.08747936e-01, -4.65236252e-01,\n",
              "        -1.02315576e-01, -3.27192626e-02, -1.45987820e-01,\n",
              "        -1.86015493e-01, -1.39645689e-01, -7.74263092e-02,\n",
              "        -1.47255797e-02,  1.97169465e-03,  0.00000000e+00,\n",
              "         0.00000000e+00],\n",
              "       [ 0.00000000e+00,  0.00000000e+00,  3.70849462e-03,\n",
              "         2.94212552e-03,  1.90126939e-02,  2.49339615e-02,\n",
              "        -2.76301008e-02, -7.96952700e-02, -5.14997326e-02,\n",
              "         6.05242384e-03,  1.47392250e-01,  3.54638425e-01,\n",
              "         2.60872343e-01,  8.30797304e-01,  1.02781075e+00,\n",
              "        -3.50522167e-01, -1.13872311e+00, -4.10215308e-01,\n",
              "        -1.17894949e-01,  2.22009886e-02, -4.87952657e-02,\n",
              "        -1.58069058e-01, -1.70334620e-01, -1.17960896e-01,\n",
              "        -3.11971497e-02,  1.46674846e-03,  0.00000000e+00,\n",
              "         0.00000000e+00],\n",
              "       [ 0.00000000e+00,  0.00000000e+00,  1.04560440e-02,\n",
              "         4.51433613e-05, -9.11261220e-03, -2.77548602e-02,\n",
              "        -4.54860234e-02, -8.65022055e-02, -5.37979046e-02,\n",
              "         2.16676722e-02,  2.66439899e-01,  6.94895698e-01,\n",
              "         5.02083687e-01,  7.21346653e-01,  4.94532503e-01,\n",
              "        -8.95564788e-01, -8.76803000e-01, -4.03722421e-01,\n",
              "        -2.63257623e-01,  1.14394089e-01,  6.67129484e-02,\n",
              "        -8.65109954e-02, -1.73602695e-01, -1.46957955e-01,\n",
              "        -5.76859376e-02,  0.00000000e+00,  0.00000000e+00,\n",
              "         0.00000000e+00],\n",
              "       [ 0.00000000e+00,  0.00000000e+00,  0.00000000e+00,\n",
              "         5.69002582e-04, -5.20435579e-02, -1.00958177e-01,\n",
              "        -1.24884886e-01, -1.22979046e-01, -4.54440295e-02,\n",
              "         1.37580613e-01,  6.14191810e-01,  9.69828169e-01,\n",
              "         3.66976966e-01,  2.69745048e-01, -4.86078308e-01,\n",
              "        -1.07531809e+00, -6.28817158e-01, -4.78638766e-01,\n",
              "        -3.28784440e-01,  1.61736030e-01,  2.07252843e-01,\n",
              "        -5.00059077e-02, -1.67250047e-01, -1.85984970e-01,\n",
              "        -7.07198386e-02,  0.00000000e+00,  0.00000000e+00,\n",
              "         0.00000000e+00],\n",
              "       [-2.87965832e-05, -1.15186333e-04,  0.00000000e+00,\n",
              "         1.27466402e-02, -1.21316785e-01, -2.18367495e-01,\n",
              "        -1.69304404e-01, -9.28132908e-02,  1.55377911e-01,\n",
              "         5.02803268e-01,  1.07646257e+00,  1.03050165e+00,\n",
              "         7.66468915e-02, -5.08413869e-01, -1.24044636e+00,\n",
              "        -1.05938034e+00, -7.39221607e-01, -5.90344054e-01,\n",
              "        -2.73837767e-01,  2.13975034e-01,  2.87103270e-01,\n",
              "         9.97677191e-03, -1.82904324e-01, -2.06447459e-01,\n",
              "        -6.58813939e-02, -2.60301816e-05,  0.00000000e+00,\n",
              "         0.00000000e+00],\n",
              "       [-1.43982916e-04, -7.87106608e-04,  0.00000000e+00,\n",
              "         1.07306081e-02, -1.36020790e-01, -2.92897382e-01,\n",
              "        -2.20732119e-01, -6.02827306e-02,  4.60633727e-01,\n",
              "         1.07827006e+00,  1.36337154e+00,  8.05805469e-01,\n",
              "        -4.63811873e-01, -1.45935170e+00, -1.57241351e+00,\n",
              "        -9.96870126e-01, -8.37839122e-01, -4.81011685e-01,\n",
              "        -1.10516640e-01,  2.76485345e-01,  2.90560904e-01,\n",
              "        -1.76200825e-02, -2.24202166e-01, -1.83086634e-01,\n",
              "        -3.85027618e-02, -1.77478525e-03,  0.00000000e+00,\n",
              "         0.00000000e+00],\n",
              "       [ 0.00000000e+00,  0.00000000e+00,  0.00000000e+00,\n",
              "         4.06236212e-03, -8.32849554e-02, -2.72092016e-01,\n",
              "        -2.69563163e-01,  1.18385882e-02,  7.06533983e-01,\n",
              "         1.33858564e+00,  1.35678668e+00,  2.54748233e-01,\n",
              "        -1.37864644e+00, -2.18927242e+00, -1.59383225e+00,\n",
              "        -9.29790465e-01, -6.34299662e-01, -2.06656973e-01,\n",
              "         7.28031364e-02,  2.84574512e-01,  1.77495484e-01,\n",
              "        -1.18831468e-01, -2.27353652e-01, -1.44105289e-01,\n",
              "        -2.69322121e-02, -1.89222194e-03,  0.00000000e+00,\n",
              "         0.00000000e+00],\n",
              "       [ 0.00000000e+00,  0.00000000e+00,  0.00000000e+00,\n",
              "         5.86029887e-03, -5.21292893e-02, -1.25414003e-01,\n",
              "        -7.74757085e-02,  2.38352611e-01,  7.94383067e-01,\n",
              "         1.24957989e+00,  9.59432533e-01, -4.32960372e-01,\n",
              "        -2.13666882e+00, -2.27652621e+00, -1.26224545e+00,\n",
              "        -4.95915536e-01, -1.29172549e-01,  3.48361643e-02,\n",
              "         1.42172086e-01,  1.62255814e-01, -1.98752419e-02,\n",
              "        -1.73116828e-01, -1.75129034e-01, -7.64499880e-02,\n",
              "        -6.43549755e-03, -7.16280406e-04,  0.00000000e+00,\n",
              "         0.00000000e+00],\n",
              "       [ 0.00000000e+00,  0.00000000e+00,  0.00000000e+00,\n",
              "         8.02781918e-03, -2.14431510e-02,  5.73979337e-02,\n",
              "         2.07430857e-01,  5.12993101e-01,  1.08287374e+00,\n",
              "         1.32652320e+00,  7.62602440e-01, -6.54875085e-01,\n",
              "        -2.15739908e+00, -1.86044044e+00, -6.46748192e-01,\n",
              "        -2.18195425e-02,  5.00225870e-02, -1.34269994e-02,\n",
              "        -5.70840654e-02, -5.45397652e-02, -9.22054881e-02,\n",
              "        -1.20807311e-01, -8.84423625e-02, -1.38928546e-02,\n",
              "         3.60740255e-03, -1.97532640e-03,  0.00000000e+00,\n",
              "         0.00000000e+00],\n",
              "       [ 0.00000000e+00,  0.00000000e+00,  0.00000000e+00,\n",
              "         3.26593521e-05,  2.08665458e-03,  1.08805474e-01,\n",
              "         3.45058419e-01,  6.79925154e-01,  1.17485474e+00,\n",
              "         1.30324991e+00,  6.05942335e-01, -5.86589658e-01,\n",
              "        -1.58512285e+00, -1.18148719e+00, -1.95975333e-01,\n",
              "         1.33581731e-01, -2.52893303e-02, -1.79283594e-01,\n",
              "        -2.08655619e-01, -9.81250401e-02, -4.41584415e-02,\n",
              "        -2.35749333e-02,  9.15945919e-03,  2.08455386e-02,\n",
              "         2.65379992e-03,  0.00000000e+00,  0.00000000e+00,\n",
              "         0.00000000e+00],\n",
              "       [ 0.00000000e+00,  0.00000000e+00,  0.00000000e+00,\n",
              "         3.89320992e-06, -4.43913790e-03,  4.57062716e-02,\n",
              "         1.61946219e-01,  1.77183325e-01,  3.77707446e-01,\n",
              "         5.48245473e-01,  3.57864644e-01, -6.14472262e-02,\n",
              "        -3.56746581e-01, -2.21771053e-01,  1.32320988e-01,\n",
              "         1.70162161e-01, -5.45633277e-02, -2.35784826e-01,\n",
              "        -2.16339122e-01, -6.49422281e-02,  3.10551689e-02,\n",
              "         3.96286688e-02,  2.97143914e-02,  1.23161413e-02,\n",
              "         1.24086628e-04,  0.00000000e+00,  0.00000000e+00,\n",
              "         0.00000000e+00],\n",
              "       [ 0.00000000e+00,  0.00000000e+00,  0.00000000e+00,\n",
              "         0.00000000e+00,  0.00000000e+00, -4.01157764e-03,\n",
              "        -1.62950429e-03,  1.04496572e-02,  6.66775597e-02,\n",
              "         8.60736323e-02, -3.19424861e-03, -8.02103236e-02,\n",
              "        -1.05236508e-01,  3.41736549e-02,  1.22701549e-01,\n",
              "         6.05274337e-02, -6.71993769e-02, -1.64825326e-01,\n",
              "        -1.28791326e-01, -2.19845376e-02,  3.64545874e-02,\n",
              "         4.09336976e-02,  1.48505540e-02,  4.91280995e-03,\n",
              "         5.27132250e-05,  0.00000000e+00,  0.00000000e+00,\n",
              "         0.00000000e+00],\n",
              "       [ 0.00000000e+00,  0.00000000e+00,  0.00000000e+00,\n",
              "         0.00000000e+00, -2.44344428e-03, -6.10856597e-04,\n",
              "        -7.95039159e-05, -2.32506978e-03,  2.31290207e-02,\n",
              "         2.40910881e-02, -1.10819905e-02, -3.38672448e-02,\n",
              "        -3.35212467e-02,  2.10859596e-02,  5.13148352e-02,\n",
              "         1.34819444e-02, -2.63900762e-02, -4.99525045e-02,\n",
              "        -3.77545656e-02,  6.91709906e-03,  1.78563347e-02,\n",
              "         1.16120762e-02,  4.79263650e-03,  0.00000000e+00,\n",
              "         0.00000000e+00,  0.00000000e+00,  0.00000000e+00,\n",
              "         0.00000000e+00],\n",
              "       [ 0.00000000e+00,  0.00000000e+00,  0.00000000e+00,\n",
              "         0.00000000e+00,  0.00000000e+00,  0.00000000e+00,\n",
              "         0.00000000e+00,  0.00000000e+00,  0.00000000e+00,\n",
              "         0.00000000e+00,  0.00000000e+00, -7.52495850e-04,\n",
              "        -1.37914194e-02, -1.05721160e-02,  1.92057492e-04,\n",
              "        -1.24307451e-04, -1.91945329e-04,  0.00000000e+00,\n",
              "         0.00000000e+00,  0.00000000e+00,  0.00000000e+00,\n",
              "         0.00000000e+00,  0.00000000e+00,  0.00000000e+00,\n",
              "         0.00000000e+00,  0.00000000e+00,  0.00000000e+00,\n",
              "         0.00000000e+00]])"
            ]
          },
          "metadata": {
            "tags": []
          },
          "execution_count": 65
        }
      ]
    },
    {
      "cell_type": "code",
      "metadata": {
        "id": "u0JuxdJJyX0n",
        "colab_type": "code",
        "colab": {}
      },
      "source": [
        "def lol(step=step, variables=variables, values=values):\n",
        "    print(step)"
      ],
      "execution_count": 0,
      "outputs": []
    },
    {
      "cell_type": "code",
      "metadata": {
        "id": "q-iWTrq0yX0p",
        "colab_type": "code",
        "outputId": "acd1441d-1561-4c79-c760-595a3d1e2a3b",
        "colab": {}
      },
      "source": [
        ""
      ],
      "execution_count": 0,
      "outputs": [
        {
          "output_type": "error",
          "ename": "TypeError",
          "evalue": "lol() got multiple values for argument 'step'",
          "traceback": [
            "\u001b[1;31m---------------------------------------------------------------------------\u001b[0m",
            "\u001b[1;31mTypeError\u001b[0m                                 Traceback (most recent call last)",
            "\u001b[1;32m<ipython-input-76-b6f211d2b46d>\u001b[0m in \u001b[0;36m<module>\u001b[1;34m\u001b[0m\n\u001b[1;32m----> 1\u001b[1;33m \u001b[0mlol\u001b[0m\u001b[1;33m(\u001b[0m\u001b[1;36m21\u001b[0m\u001b[1;33m,\u001b[0m\u001b[1;36m36\u001b[0m\u001b[1;33m,\u001b[0m\u001b[1;36m20\u001b[0m\u001b[1;33m,\u001b[0m\u001b[0mstep\u001b[0m \u001b[1;33m=\u001b[0m \u001b[1;36m10\u001b[0m\u001b[1;33m)\u001b[0m\u001b[1;33m\u001b[0m\u001b[1;33m\u001b[0m\u001b[0m\n\u001b[0m",
            "\u001b[1;31mTypeError\u001b[0m: lol() got multiple values for argument 'step'"
          ]
        }
      ]
    },
    {
      "cell_type": "code",
      "metadata": {
        "id": "6JntL1zKyX0t",
        "colab_type": "code",
        "colab": {}
      },
      "source": [
        ""
      ],
      "execution_count": 0,
      "outputs": []
    }
  ]
}